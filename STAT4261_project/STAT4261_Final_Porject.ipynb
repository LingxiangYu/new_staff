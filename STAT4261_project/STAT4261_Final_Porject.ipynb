{
 "cells": [
  {
   "cell_type": "code",
   "execution_count": 3,
   "metadata": {
    "collapsed": true
   },
   "outputs": [],
   "source": [
    "import urllib2\n",
    "import pandas as pd"
   ]
  },
  {
   "cell_type": "code",
   "execution_count": 2,
   "metadata": {
    "collapsed": true
   },
   "outputs": [],
   "source": [
    "url = 'http://chart.finance.yahoo.com/table.csv?s=KO&a=0&b=1&c=2014&d=3&e=15&f=2017&g=d&ignore=.csv'\n",
    "response = urllib2.urlopen(url)\n",
    "html = response.read()\n",
    "with open('coca.csv', 'wb') as f:\n",
    "    f.write(html)"
   ]
  },
  {
   "cell_type": "code",
   "execution_count": 4,
   "metadata": {
    "collapsed": true
   },
   "outputs": [],
   "source": [
    "data = pd.read_csv('coca.csv')"
   ]
  },
  {
   "cell_type": "code",
   "execution_count": 5,
   "metadata": {
    "collapsed": false
   },
   "outputs": [
    {
     "data": {
      "text/html": [
       "<div>\n",
       "<table border=\"1\" class=\"dataframe\">\n",
       "  <thead>\n",
       "    <tr style=\"text-align: right;\">\n",
       "      <th></th>\n",
       "      <th>Date</th>\n",
       "      <th>Open</th>\n",
       "      <th>High</th>\n",
       "      <th>Low</th>\n",
       "      <th>Close</th>\n",
       "      <th>Volume</th>\n",
       "      <th>Adj Close</th>\n",
       "    </tr>\n",
       "  </thead>\n",
       "  <tbody>\n",
       "    <tr>\n",
       "      <th>0</th>\n",
       "      <td>2017-04-13</td>\n",
       "      <td>42.869999</td>\n",
       "      <td>43.080002</td>\n",
       "      <td>42.779999</td>\n",
       "      <td>42.790001</td>\n",
       "      <td>9824600</td>\n",
       "      <td>42.790001</td>\n",
       "    </tr>\n",
       "    <tr>\n",
       "      <th>1</th>\n",
       "      <td>2017-04-12</td>\n",
       "      <td>42.540001</td>\n",
       "      <td>42.990002</td>\n",
       "      <td>42.509998</td>\n",
       "      <td>42.939999</td>\n",
       "      <td>11987200</td>\n",
       "      <td>42.939999</td>\n",
       "    </tr>\n",
       "    <tr>\n",
       "      <th>2</th>\n",
       "      <td>2017-04-11</td>\n",
       "      <td>42.680000</td>\n",
       "      <td>42.750000</td>\n",
       "      <td>42.520000</td>\n",
       "      <td>42.660000</td>\n",
       "      <td>8856800</td>\n",
       "      <td>42.660000</td>\n",
       "    </tr>\n",
       "    <tr>\n",
       "      <th>3</th>\n",
       "      <td>2017-04-10</td>\n",
       "      <td>42.730000</td>\n",
       "      <td>42.799999</td>\n",
       "      <td>42.560001</td>\n",
       "      <td>42.689999</td>\n",
       "      <td>9426900</td>\n",
       "      <td>42.689999</td>\n",
       "    </tr>\n",
       "    <tr>\n",
       "      <th>4</th>\n",
       "      <td>2017-04-07</td>\n",
       "      <td>42.639999</td>\n",
       "      <td>42.740002</td>\n",
       "      <td>42.509998</td>\n",
       "      <td>42.610001</td>\n",
       "      <td>11028800</td>\n",
       "      <td>42.610001</td>\n",
       "    </tr>\n",
       "  </tbody>\n",
       "</table>\n",
       "</div>"
      ],
      "text/plain": [
       "         Date       Open       High        Low      Close    Volume  Adj Close\n",
       "0  2017-04-13  42.869999  43.080002  42.779999  42.790001   9824600  42.790001\n",
       "1  2017-04-12  42.540001  42.990002  42.509998  42.939999  11987200  42.939999\n",
       "2  2017-04-11  42.680000  42.750000  42.520000  42.660000   8856800  42.660000\n",
       "3  2017-04-10  42.730000  42.799999  42.560001  42.689999   9426900  42.689999\n",
       "4  2017-04-07  42.639999  42.740002  42.509998  42.610001  11028800  42.610001"
      ]
     },
     "execution_count": 5,
     "metadata": {},
     "output_type": "execute_result"
    }
   ],
   "source": [
    "data.head()"
   ]
  },
  {
   "cell_type": "code",
   "execution_count": 18,
   "metadata": {
    "collapsed": false
   },
   "outputs": [],
   "source": [
    "data = data.reindex(index=data.index[::-1])"
   ]
  },
  {
   "cell_type": "code",
   "execution_count": 19,
   "metadata": {
    "collapsed": false
   },
   "outputs": [
    {
     "data": {
      "text/html": [
       "<div>\n",
       "<table border=\"1\" class=\"dataframe\">\n",
       "  <thead>\n",
       "    <tr style=\"text-align: right;\">\n",
       "      <th></th>\n",
       "      <th>Date</th>\n",
       "      <th>Open</th>\n",
       "      <th>High</th>\n",
       "      <th>Low</th>\n",
       "      <th>Close</th>\n",
       "      <th>Volume</th>\n",
       "      <th>Adj Close</th>\n",
       "    </tr>\n",
       "  </thead>\n",
       "  <tbody>\n",
       "    <tr>\n",
       "      <th>826</th>\n",
       "      <td>2014-01-02</td>\n",
       "      <td>41.119999</td>\n",
       "      <td>41.230000</td>\n",
       "      <td>40.509998</td>\n",
       "      <td>40.660000</td>\n",
       "      <td>12698600</td>\n",
       "      <td>36.679448</td>\n",
       "    </tr>\n",
       "    <tr>\n",
       "      <th>825</th>\n",
       "      <td>2014-01-03</td>\n",
       "      <td>40.680000</td>\n",
       "      <td>40.730000</td>\n",
       "      <td>40.349998</td>\n",
       "      <td>40.459999</td>\n",
       "      <td>10403400</td>\n",
       "      <td>36.499027</td>\n",
       "    </tr>\n",
       "    <tr>\n",
       "      <th>824</th>\n",
       "      <td>2014-01-06</td>\n",
       "      <td>40.480000</td>\n",
       "      <td>40.590000</td>\n",
       "      <td>40.160000</td>\n",
       "      <td>40.270000</td>\n",
       "      <td>11036300</td>\n",
       "      <td>36.327628</td>\n",
       "    </tr>\n",
       "    <tr>\n",
       "      <th>823</th>\n",
       "      <td>2014-01-07</td>\n",
       "      <td>40.480000</td>\n",
       "      <td>40.720001</td>\n",
       "      <td>40.290001</td>\n",
       "      <td>40.389999</td>\n",
       "      <td>11872300</td>\n",
       "      <td>36.435880</td>\n",
       "    </tr>\n",
       "    <tr>\n",
       "      <th>822</th>\n",
       "      <td>2014-01-08</td>\n",
       "      <td>40.439999</td>\n",
       "      <td>40.439999</td>\n",
       "      <td>39.830002</td>\n",
       "      <td>39.939999</td>\n",
       "      <td>15339600</td>\n",
       "      <td>36.029933</td>\n",
       "    </tr>\n",
       "  </tbody>\n",
       "</table>\n",
       "</div>"
      ],
      "text/plain": [
       "           Date       Open       High        Low      Close    Volume  \\\n",
       "826  2014-01-02  41.119999  41.230000  40.509998  40.660000  12698600   \n",
       "825  2014-01-03  40.680000  40.730000  40.349998  40.459999  10403400   \n",
       "824  2014-01-06  40.480000  40.590000  40.160000  40.270000  11036300   \n",
       "823  2014-01-07  40.480000  40.720001  40.290001  40.389999  11872300   \n",
       "822  2014-01-08  40.439999  40.439999  39.830002  39.939999  15339600   \n",
       "\n",
       "     Adj Close  \n",
       "826  36.679448  \n",
       "825  36.499027  \n",
       "824  36.327628  \n",
       "823  36.435880  \n",
       "822  36.029933  "
      ]
     },
     "execution_count": 19,
     "metadata": {},
     "output_type": "execute_result"
    }
   ],
   "source": [
    "data.head()"
   ]
  },
  {
   "cell_type": "code",
   "execution_count": 20,
   "metadata": {
    "collapsed": false
   },
   "outputs": [
    {
     "data": {
      "text/plain": [
       "Date         2014-01-02\n",
       "Open              41.12\n",
       "High              41.23\n",
       "Low               40.51\n",
       "Close             40.66\n",
       "Volume         12698600\n",
       "Adj Close       36.6794\n",
       "Name: 826, dtype: object"
      ]
     },
     "execution_count": 20,
     "metadata": {},
     "output_type": "execute_result"
    }
   ],
   "source": [
    "data.iloc[0]"
   ]
  },
  {
   "cell_type": "code",
   "execution_count": null,
   "metadata": {
    "collapsed": true
   },
   "outputs": [],
   "source": []
  }
 ],
 "metadata": {
  "anaconda-cloud": {},
  "kernelspec": {
   "display_name": "Python [conda root]",
   "language": "python",
   "name": "conda-root-py"
  },
  "language_info": {
   "codemirror_mode": {
    "name": "ipython",
    "version": 2
   },
   "file_extension": ".py",
   "mimetype": "text/x-python",
   "name": "python",
   "nbconvert_exporter": "python",
   "pygments_lexer": "ipython2",
   "version": "2.7.12"
  }
 },
 "nbformat": 4,
 "nbformat_minor": 1
}
