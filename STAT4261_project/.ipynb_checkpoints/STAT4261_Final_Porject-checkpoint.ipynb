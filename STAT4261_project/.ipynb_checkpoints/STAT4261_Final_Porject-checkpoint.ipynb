{
 "cells": [
  {
   "cell_type": "code",
   "execution_count": 130,
   "metadata": {
    "collapsed": false
   },
   "outputs": [],
   "source": [
    "import urllib2\n",
    "import pandas as pd\n",
    "import matplotlib.pyplot as plt\n",
    "import numpy as np"
   ]
  },
  {
   "cell_type": "code",
   "execution_count": 134,
   "metadata": {
    "collapsed": false
   },
   "outputs": [],
   "source": [
    "matrix = np.zeros((5,2))\n",
    "matrix[1][0]=1"
   ]
  },
  {
   "cell_type": "code",
   "execution_count": 135,
   "metadata": {
    "collapsed": false
   },
   "outputs": [
    {
     "data": {
      "text/plain": [
       "array([[ 0.,  0.],\n",
       "       [ 1.,  0.],\n",
       "       [ 0.,  0.],\n",
       "       [ 0.,  0.],\n",
       "       [ 0.,  0.]])"
      ]
     },
     "execution_count": 135,
     "metadata": {},
     "output_type": "execute_result"
    }
   ],
   "source": [
    "matrix"
   ]
  },
  {
   "cell_type": "code",
   "execution_count": 2,
   "metadata": {
    "collapsed": true
   },
   "outputs": [],
   "source": [
    "url = 'http://chart.finance.yahoo.com/table.csv?s=KO&a=0&b=1&c=2014&d=3&e=15&f=2017&g=d&ignore=.csv'\n",
    "response = urllib2.urlopen(url)\n",
    "html = response.read()\n",
    "with open('coca.csv', 'wb') as f:\n",
    "    f.write(html)"
   ]
  },
  {
   "cell_type": "code",
   "execution_count": 4,
   "metadata": {
    "collapsed": false
   },
   "outputs": [],
   "source": [
    "data = pd.read_csv('coca.csv')"
   ]
  },
  {
   "cell_type": "code",
   "execution_count": 6,
   "metadata": {
    "collapsed": false
   },
   "outputs": [],
   "source": [
    "data = data.reindex(index=data.index[::-1])"
   ]
  },
  {
   "cell_type": "code",
   "execution_count": 7,
   "metadata": {
    "collapsed": false
   },
   "outputs": [
    {
     "data": {
      "text/plain": [
       "827"
      ]
     },
     "execution_count": 7,
     "metadata": {},
     "output_type": "execute_result"
    }
   ],
   "source": [
    "len(data)"
   ]
  },
  {
   "cell_type": "code",
   "execution_count": 8,
   "metadata": {
    "collapsed": true
   },
   "outputs": [],
   "source": [
    "data.index = range(827)"
   ]
  },
  {
   "cell_type": "code",
   "execution_count": 27,
   "metadata": {
    "collapsed": false
   },
   "outputs": [
    {
     "data": {
      "text/html": [
       "<div>\n",
       "<table border=\"1\" class=\"dataframe\">\n",
       "  <thead>\n",
       "    <tr style=\"text-align: right;\">\n",
       "      <th></th>\n",
       "      <th>Date</th>\n",
       "      <th>Open</th>\n",
       "      <th>High</th>\n",
       "      <th>Low</th>\n",
       "      <th>Close</th>\n",
       "      <th>Volume</th>\n",
       "      <th>Adj Close</th>\n",
       "    </tr>\n",
       "  </thead>\n",
       "  <tbody>\n",
       "    <tr>\n",
       "      <th>0</th>\n",
       "      <td>2014-01-02</td>\n",
       "      <td>41.119999</td>\n",
       "      <td>41.230000</td>\n",
       "      <td>40.509998</td>\n",
       "      <td>40.660000</td>\n",
       "      <td>12698600</td>\n",
       "      <td>36.679448</td>\n",
       "    </tr>\n",
       "    <tr>\n",
       "      <th>1</th>\n",
       "      <td>2014-01-03</td>\n",
       "      <td>40.680000</td>\n",
       "      <td>40.730000</td>\n",
       "      <td>40.349998</td>\n",
       "      <td>40.459999</td>\n",
       "      <td>10403400</td>\n",
       "      <td>36.499027</td>\n",
       "    </tr>\n",
       "    <tr>\n",
       "      <th>2</th>\n",
       "      <td>2014-01-06</td>\n",
       "      <td>40.480000</td>\n",
       "      <td>40.590000</td>\n",
       "      <td>40.160000</td>\n",
       "      <td>40.270000</td>\n",
       "      <td>11036300</td>\n",
       "      <td>36.327628</td>\n",
       "    </tr>\n",
       "    <tr>\n",
       "      <th>3</th>\n",
       "      <td>2014-01-07</td>\n",
       "      <td>40.480000</td>\n",
       "      <td>40.720001</td>\n",
       "      <td>40.290001</td>\n",
       "      <td>40.389999</td>\n",
       "      <td>11872300</td>\n",
       "      <td>36.435880</td>\n",
       "    </tr>\n",
       "    <tr>\n",
       "      <th>4</th>\n",
       "      <td>2014-01-08</td>\n",
       "      <td>40.439999</td>\n",
       "      <td>40.439999</td>\n",
       "      <td>39.830002</td>\n",
       "      <td>39.939999</td>\n",
       "      <td>15339600</td>\n",
       "      <td>36.029933</td>\n",
       "    </tr>\n",
       "    <tr>\n",
       "      <th>5</th>\n",
       "      <td>2014-01-09</td>\n",
       "      <td>39.950001</td>\n",
       "      <td>40.000000</td>\n",
       "      <td>39.520000</td>\n",
       "      <td>39.730000</td>\n",
       "      <td>14070200</td>\n",
       "      <td>35.840493</td>\n",
       "    </tr>\n",
       "    <tr>\n",
       "      <th>6</th>\n",
       "      <td>2014-01-10</td>\n",
       "      <td>39.959999</td>\n",
       "      <td>40.290001</td>\n",
       "      <td>39.900002</td>\n",
       "      <td>40.130001</td>\n",
       "      <td>13290000</td>\n",
       "      <td>36.201335</td>\n",
       "    </tr>\n",
       "    <tr>\n",
       "      <th>7</th>\n",
       "      <td>2014-01-13</td>\n",
       "      <td>40.000000</td>\n",
       "      <td>40.130001</td>\n",
       "      <td>39.500000</td>\n",
       "      <td>39.529999</td>\n",
       "      <td>14091900</td>\n",
       "      <td>35.660072</td>\n",
       "    </tr>\n",
       "    <tr>\n",
       "      <th>8</th>\n",
       "      <td>2014-01-14</td>\n",
       "      <td>39.639999</td>\n",
       "      <td>39.919998</td>\n",
       "      <td>39.580002</td>\n",
       "      <td>39.689999</td>\n",
       "      <td>12801100</td>\n",
       "      <td>35.804408</td>\n",
       "    </tr>\n",
       "    <tr>\n",
       "      <th>9</th>\n",
       "      <td>2014-01-15</td>\n",
       "      <td>39.830002</td>\n",
       "      <td>39.939999</td>\n",
       "      <td>39.580002</td>\n",
       "      <td>39.759998</td>\n",
       "      <td>12844900</td>\n",
       "      <td>35.867555</td>\n",
       "    </tr>\n",
       "    <tr>\n",
       "      <th>10</th>\n",
       "      <td>2014-01-16</td>\n",
       "      <td>39.779999</td>\n",
       "      <td>39.820000</td>\n",
       "      <td>39.580002</td>\n",
       "      <td>39.709999</td>\n",
       "      <td>11063100</td>\n",
       "      <td>35.822450</td>\n",
       "    </tr>\n",
       "    <tr>\n",
       "      <th>11</th>\n",
       "      <td>2014-01-17</td>\n",
       "      <td>39.720001</td>\n",
       "      <td>39.750000</td>\n",
       "      <td>39.279999</td>\n",
       "      <td>39.279999</td>\n",
       "      <td>13992700</td>\n",
       "      <td>35.434546</td>\n",
       "    </tr>\n",
       "    <tr>\n",
       "      <th>12</th>\n",
       "      <td>2014-01-21</td>\n",
       "      <td>39.639999</td>\n",
       "      <td>39.919998</td>\n",
       "      <td>39.529999</td>\n",
       "      <td>39.919998</td>\n",
       "      <td>17579000</td>\n",
       "      <td>36.011891</td>\n",
       "    </tr>\n",
       "    <tr>\n",
       "      <th>13</th>\n",
       "      <td>2014-01-22</td>\n",
       "      <td>39.990002</td>\n",
       "      <td>40.090000</td>\n",
       "      <td>39.750000</td>\n",
       "      <td>39.900002</td>\n",
       "      <td>9841700</td>\n",
       "      <td>35.993852</td>\n",
       "    </tr>\n",
       "    <tr>\n",
       "      <th>14</th>\n",
       "      <td>2014-01-23</td>\n",
       "      <td>39.610001</td>\n",
       "      <td>39.639999</td>\n",
       "      <td>39.119999</td>\n",
       "      <td>39.240002</td>\n",
       "      <td>14828100</td>\n",
       "      <td>35.398465</td>\n",
       "    </tr>\n",
       "    <tr>\n",
       "      <th>15</th>\n",
       "      <td>2014-01-24</td>\n",
       "      <td>39.080002</td>\n",
       "      <td>39.250000</td>\n",
       "      <td>38.820000</td>\n",
       "      <td>38.840000</td>\n",
       "      <td>16507500</td>\n",
       "      <td>35.037623</td>\n",
       "    </tr>\n",
       "    <tr>\n",
       "      <th>16</th>\n",
       "      <td>2014-01-27</td>\n",
       "      <td>38.820000</td>\n",
       "      <td>38.980000</td>\n",
       "      <td>38.709999</td>\n",
       "      <td>38.730000</td>\n",
       "      <td>14601900</td>\n",
       "      <td>34.938391</td>\n",
       "    </tr>\n",
       "    <tr>\n",
       "      <th>17</th>\n",
       "      <td>2014-01-28</td>\n",
       "      <td>38.770000</td>\n",
       "      <td>39.080002</td>\n",
       "      <td>38.619999</td>\n",
       "      <td>38.869999</td>\n",
       "      <td>8915500</td>\n",
       "      <td>35.064685</td>\n",
       "    </tr>\n",
       "    <tr>\n",
       "      <th>18</th>\n",
       "      <td>2014-01-29</td>\n",
       "      <td>38.570000</td>\n",
       "      <td>38.570000</td>\n",
       "      <td>37.820000</td>\n",
       "      <td>37.900002</td>\n",
       "      <td>23776100</td>\n",
       "      <td>34.189649</td>\n",
       "    </tr>\n",
       "    <tr>\n",
       "      <th>19</th>\n",
       "      <td>2014-01-30</td>\n",
       "      <td>38.000000</td>\n",
       "      <td>38.410000</td>\n",
       "      <td>38.000000</td>\n",
       "      <td>38.169998</td>\n",
       "      <td>13662000</td>\n",
       "      <td>34.433213</td>\n",
       "    </tr>\n",
       "    <tr>\n",
       "      <th>20</th>\n",
       "      <td>2014-01-31</td>\n",
       "      <td>37.950001</td>\n",
       "      <td>38.160000</td>\n",
       "      <td>37.720001</td>\n",
       "      <td>37.820000</td>\n",
       "      <td>16185000</td>\n",
       "      <td>34.117479</td>\n",
       "    </tr>\n",
       "    <tr>\n",
       "      <th>21</th>\n",
       "      <td>2014-02-03</td>\n",
       "      <td>38.020000</td>\n",
       "      <td>38.020000</td>\n",
       "      <td>37.099998</td>\n",
       "      <td>37.200001</td>\n",
       "      <td>23164900</td>\n",
       "      <td>33.558177</td>\n",
       "    </tr>\n",
       "    <tr>\n",
       "      <th>22</th>\n",
       "      <td>2014-02-04</td>\n",
       "      <td>37.439999</td>\n",
       "      <td>37.549999</td>\n",
       "      <td>37.209999</td>\n",
       "      <td>37.480000</td>\n",
       "      <td>17759700</td>\n",
       "      <td>33.810764</td>\n",
       "    </tr>\n",
       "    <tr>\n",
       "      <th>23</th>\n",
       "      <td>2014-02-05</td>\n",
       "      <td>37.490002</td>\n",
       "      <td>37.720001</td>\n",
       "      <td>37.380001</td>\n",
       "      <td>37.610001</td>\n",
       "      <td>13665200</td>\n",
       "      <td>33.928039</td>\n",
       "    </tr>\n",
       "    <tr>\n",
       "      <th>24</th>\n",
       "      <td>2014-02-06</td>\n",
       "      <td>38.759998</td>\n",
       "      <td>38.939999</td>\n",
       "      <td>37.919998</td>\n",
       "      <td>38.029999</td>\n",
       "      <td>22661500</td>\n",
       "      <td>34.306920</td>\n",
       "    </tr>\n",
       "    <tr>\n",
       "      <th>25</th>\n",
       "      <td>2014-02-07</td>\n",
       "      <td>38.169998</td>\n",
       "      <td>38.349998</td>\n",
       "      <td>37.869999</td>\n",
       "      <td>37.950001</td>\n",
       "      <td>20389000</td>\n",
       "      <td>34.234753</td>\n",
       "    </tr>\n",
       "    <tr>\n",
       "      <th>26</th>\n",
       "      <td>2014-02-10</td>\n",
       "      <td>38.070000</td>\n",
       "      <td>38.619999</td>\n",
       "      <td>37.840000</td>\n",
       "      <td>38.570000</td>\n",
       "      <td>20877200</td>\n",
       "      <td>34.794055</td>\n",
       "    </tr>\n",
       "    <tr>\n",
       "      <th>27</th>\n",
       "      <td>2014-02-11</td>\n",
       "      <td>38.669998</td>\n",
       "      <td>38.779999</td>\n",
       "      <td>38.509998</td>\n",
       "      <td>38.639999</td>\n",
       "      <td>15361300</td>\n",
       "      <td>34.857202</td>\n",
       "    </tr>\n",
       "    <tr>\n",
       "      <th>28</th>\n",
       "      <td>2014-02-12</td>\n",
       "      <td>38.849998</td>\n",
       "      <td>38.919998</td>\n",
       "      <td>38.400002</td>\n",
       "      <td>38.509998</td>\n",
       "      <td>10633400</td>\n",
       "      <td>34.739928</td>\n",
       "    </tr>\n",
       "    <tr>\n",
       "      <th>29</th>\n",
       "      <td>2014-02-13</td>\n",
       "      <td>38.130001</td>\n",
       "      <td>38.759998</td>\n",
       "      <td>38.130001</td>\n",
       "      <td>38.650002</td>\n",
       "      <td>10435600</td>\n",
       "      <td>34.866225</td>\n",
       "    </tr>\n",
       "    <tr>\n",
       "      <th>30</th>\n",
       "      <td>2014-02-14</td>\n",
       "      <td>38.599998</td>\n",
       "      <td>39.020000</td>\n",
       "      <td>38.270000</td>\n",
       "      <td>38.930000</td>\n",
       "      <td>16030100</td>\n",
       "      <td>35.118812</td>\n",
       "    </tr>\n",
       "    <tr>\n",
       "      <th>31</th>\n",
       "      <td>2014-02-18</td>\n",
       "      <td>37.980000</td>\n",
       "      <td>38.110001</td>\n",
       "      <td>37.259998</td>\n",
       "      <td>37.470001</td>\n",
       "      <td>46098500</td>\n",
       "      <td>33.801745</td>\n",
       "    </tr>\n",
       "    <tr>\n",
       "      <th>32</th>\n",
       "      <td>2014-02-19</td>\n",
       "      <td>37.500000</td>\n",
       "      <td>37.599998</td>\n",
       "      <td>37.049999</td>\n",
       "      <td>37.099998</td>\n",
       "      <td>26645100</td>\n",
       "      <td>33.467965</td>\n",
       "    </tr>\n",
       "    <tr>\n",
       "      <th>33</th>\n",
       "      <td>2014-02-20</td>\n",
       "      <td>37.060001</td>\n",
       "      <td>37.520000</td>\n",
       "      <td>36.889999</td>\n",
       "      <td>37.299999</td>\n",
       "      <td>22639900</td>\n",
       "      <td>33.648386</td>\n",
       "    </tr>\n",
       "    <tr>\n",
       "      <th>34</th>\n",
       "      <td>2014-02-21</td>\n",
       "      <td>37.590000</td>\n",
       "      <td>37.619999</td>\n",
       "      <td>37.139999</td>\n",
       "      <td>37.180000</td>\n",
       "      <td>19419800</td>\n",
       "      <td>33.540135</td>\n",
       "    </tr>\n",
       "    <tr>\n",
       "      <th>35</th>\n",
       "      <td>2014-02-24</td>\n",
       "      <td>37.299999</td>\n",
       "      <td>37.599998</td>\n",
       "      <td>37.220001</td>\n",
       "      <td>37.500000</td>\n",
       "      <td>24223500</td>\n",
       "      <td>33.828807</td>\n",
       "    </tr>\n",
       "    <tr>\n",
       "      <th>36</th>\n",
       "      <td>2014-02-25</td>\n",
       "      <td>37.630001</td>\n",
       "      <td>37.939999</td>\n",
       "      <td>37.500000</td>\n",
       "      <td>37.770000</td>\n",
       "      <td>22845500</td>\n",
       "      <td>34.072375</td>\n",
       "    </tr>\n",
       "    <tr>\n",
       "      <th>37</th>\n",
       "      <td>2014-02-26</td>\n",
       "      <td>37.900002</td>\n",
       "      <td>37.939999</td>\n",
       "      <td>37.720001</td>\n",
       "      <td>37.869999</td>\n",
       "      <td>18195100</td>\n",
       "      <td>34.162583</td>\n",
       "    </tr>\n",
       "    <tr>\n",
       "      <th>38</th>\n",
       "      <td>2014-02-27</td>\n",
       "      <td>37.840000</td>\n",
       "      <td>38.110001</td>\n",
       "      <td>37.799999</td>\n",
       "      <td>38.070000</td>\n",
       "      <td>18423400</td>\n",
       "      <td>34.343004</td>\n",
       "    </tr>\n",
       "    <tr>\n",
       "      <th>39</th>\n",
       "      <td>2014-02-28</td>\n",
       "      <td>38.080002</td>\n",
       "      <td>38.389999</td>\n",
       "      <td>38.040001</td>\n",
       "      <td>38.200001</td>\n",
       "      <td>15763200</td>\n",
       "      <td>34.460279</td>\n",
       "    </tr>\n",
       "    <tr>\n",
       "      <th>40</th>\n",
       "      <td>2014-03-03</td>\n",
       "      <td>37.880001</td>\n",
       "      <td>38.160000</td>\n",
       "      <td>37.849998</td>\n",
       "      <td>38.119999</td>\n",
       "      <td>18683400</td>\n",
       "      <td>34.388109</td>\n",
       "    </tr>\n",
       "    <tr>\n",
       "      <th>41</th>\n",
       "      <td>2014-03-04</td>\n",
       "      <td>38.340000</td>\n",
       "      <td>38.389999</td>\n",
       "      <td>38.230000</td>\n",
       "      <td>38.310001</td>\n",
       "      <td>20425200</td>\n",
       "      <td>34.559510</td>\n",
       "    </tr>\n",
       "    <tr>\n",
       "      <th>42</th>\n",
       "      <td>2014-03-05</td>\n",
       "      <td>38.419998</td>\n",
       "      <td>38.450001</td>\n",
       "      <td>38.250000</td>\n",
       "      <td>38.349998</td>\n",
       "      <td>14367400</td>\n",
       "      <td>34.595592</td>\n",
       "    </tr>\n",
       "    <tr>\n",
       "      <th>43</th>\n",
       "      <td>2014-03-06</td>\n",
       "      <td>38.400002</td>\n",
       "      <td>38.549999</td>\n",
       "      <td>38.270000</td>\n",
       "      <td>38.470001</td>\n",
       "      <td>14700000</td>\n",
       "      <td>34.703846</td>\n",
       "    </tr>\n",
       "    <tr>\n",
       "      <th>44</th>\n",
       "      <td>2014-03-07</td>\n",
       "      <td>38.560001</td>\n",
       "      <td>38.610001</td>\n",
       "      <td>38.360001</td>\n",
       "      <td>38.549999</td>\n",
       "      <td>17047600</td>\n",
       "      <td>34.776013</td>\n",
       "    </tr>\n",
       "    <tr>\n",
       "      <th>45</th>\n",
       "      <td>2014-03-10</td>\n",
       "      <td>38.549999</td>\n",
       "      <td>38.650002</td>\n",
       "      <td>38.439999</td>\n",
       "      <td>38.650002</td>\n",
       "      <td>14540800</td>\n",
       "      <td>34.866225</td>\n",
       "    </tr>\n",
       "    <tr>\n",
       "      <th>46</th>\n",
       "      <td>2014-03-11</td>\n",
       "      <td>38.840000</td>\n",
       "      <td>38.840000</td>\n",
       "      <td>38.540001</td>\n",
       "      <td>38.799999</td>\n",
       "      <td>13812100</td>\n",
       "      <td>35.001538</td>\n",
       "    </tr>\n",
       "    <tr>\n",
       "      <th>47</th>\n",
       "      <td>2014-03-12</td>\n",
       "      <td>38.270000</td>\n",
       "      <td>38.500000</td>\n",
       "      <td>38.209999</td>\n",
       "      <td>38.470001</td>\n",
       "      <td>15673700</td>\n",
       "      <td>34.978808</td>\n",
       "    </tr>\n",
       "    <tr>\n",
       "      <th>48</th>\n",
       "      <td>2014-03-13</td>\n",
       "      <td>38.450001</td>\n",
       "      <td>38.490002</td>\n",
       "      <td>37.919998</td>\n",
       "      <td>37.970001</td>\n",
       "      <td>18302800</td>\n",
       "      <td>34.524184</td>\n",
       "    </tr>\n",
       "    <tr>\n",
       "      <th>49</th>\n",
       "      <td>2014-03-14</td>\n",
       "      <td>37.950001</td>\n",
       "      <td>38.320000</td>\n",
       "      <td>37.880001</td>\n",
       "      <td>38.169998</td>\n",
       "      <td>14687200</td>\n",
       "      <td>34.706031</td>\n",
       "    </tr>\n",
       "  </tbody>\n",
       "</table>\n",
       "</div>"
      ],
      "text/plain": [
       "          Date       Open       High        Low      Close    Volume  \\\n",
       "0   2014-01-02  41.119999  41.230000  40.509998  40.660000  12698600   \n",
       "1   2014-01-03  40.680000  40.730000  40.349998  40.459999  10403400   \n",
       "2   2014-01-06  40.480000  40.590000  40.160000  40.270000  11036300   \n",
       "3   2014-01-07  40.480000  40.720001  40.290001  40.389999  11872300   \n",
       "4   2014-01-08  40.439999  40.439999  39.830002  39.939999  15339600   \n",
       "5   2014-01-09  39.950001  40.000000  39.520000  39.730000  14070200   \n",
       "6   2014-01-10  39.959999  40.290001  39.900002  40.130001  13290000   \n",
       "7   2014-01-13  40.000000  40.130001  39.500000  39.529999  14091900   \n",
       "8   2014-01-14  39.639999  39.919998  39.580002  39.689999  12801100   \n",
       "9   2014-01-15  39.830002  39.939999  39.580002  39.759998  12844900   \n",
       "10  2014-01-16  39.779999  39.820000  39.580002  39.709999  11063100   \n",
       "11  2014-01-17  39.720001  39.750000  39.279999  39.279999  13992700   \n",
       "12  2014-01-21  39.639999  39.919998  39.529999  39.919998  17579000   \n",
       "13  2014-01-22  39.990002  40.090000  39.750000  39.900002   9841700   \n",
       "14  2014-01-23  39.610001  39.639999  39.119999  39.240002  14828100   \n",
       "15  2014-01-24  39.080002  39.250000  38.820000  38.840000  16507500   \n",
       "16  2014-01-27  38.820000  38.980000  38.709999  38.730000  14601900   \n",
       "17  2014-01-28  38.770000  39.080002  38.619999  38.869999   8915500   \n",
       "18  2014-01-29  38.570000  38.570000  37.820000  37.900002  23776100   \n",
       "19  2014-01-30  38.000000  38.410000  38.000000  38.169998  13662000   \n",
       "20  2014-01-31  37.950001  38.160000  37.720001  37.820000  16185000   \n",
       "21  2014-02-03  38.020000  38.020000  37.099998  37.200001  23164900   \n",
       "22  2014-02-04  37.439999  37.549999  37.209999  37.480000  17759700   \n",
       "23  2014-02-05  37.490002  37.720001  37.380001  37.610001  13665200   \n",
       "24  2014-02-06  38.759998  38.939999  37.919998  38.029999  22661500   \n",
       "25  2014-02-07  38.169998  38.349998  37.869999  37.950001  20389000   \n",
       "26  2014-02-10  38.070000  38.619999  37.840000  38.570000  20877200   \n",
       "27  2014-02-11  38.669998  38.779999  38.509998  38.639999  15361300   \n",
       "28  2014-02-12  38.849998  38.919998  38.400002  38.509998  10633400   \n",
       "29  2014-02-13  38.130001  38.759998  38.130001  38.650002  10435600   \n",
       "30  2014-02-14  38.599998  39.020000  38.270000  38.930000  16030100   \n",
       "31  2014-02-18  37.980000  38.110001  37.259998  37.470001  46098500   \n",
       "32  2014-02-19  37.500000  37.599998  37.049999  37.099998  26645100   \n",
       "33  2014-02-20  37.060001  37.520000  36.889999  37.299999  22639900   \n",
       "34  2014-02-21  37.590000  37.619999  37.139999  37.180000  19419800   \n",
       "35  2014-02-24  37.299999  37.599998  37.220001  37.500000  24223500   \n",
       "36  2014-02-25  37.630001  37.939999  37.500000  37.770000  22845500   \n",
       "37  2014-02-26  37.900002  37.939999  37.720001  37.869999  18195100   \n",
       "38  2014-02-27  37.840000  38.110001  37.799999  38.070000  18423400   \n",
       "39  2014-02-28  38.080002  38.389999  38.040001  38.200001  15763200   \n",
       "40  2014-03-03  37.880001  38.160000  37.849998  38.119999  18683400   \n",
       "41  2014-03-04  38.340000  38.389999  38.230000  38.310001  20425200   \n",
       "42  2014-03-05  38.419998  38.450001  38.250000  38.349998  14367400   \n",
       "43  2014-03-06  38.400002  38.549999  38.270000  38.470001  14700000   \n",
       "44  2014-03-07  38.560001  38.610001  38.360001  38.549999  17047600   \n",
       "45  2014-03-10  38.549999  38.650002  38.439999  38.650002  14540800   \n",
       "46  2014-03-11  38.840000  38.840000  38.540001  38.799999  13812100   \n",
       "47  2014-03-12  38.270000  38.500000  38.209999  38.470001  15673700   \n",
       "48  2014-03-13  38.450001  38.490002  37.919998  37.970001  18302800   \n",
       "49  2014-03-14  37.950001  38.320000  37.880001  38.169998  14687200   \n",
       "\n",
       "    Adj Close  \n",
       "0   36.679448  \n",
       "1   36.499027  \n",
       "2   36.327628  \n",
       "3   36.435880  \n",
       "4   36.029933  \n",
       "5   35.840493  \n",
       "6   36.201335  \n",
       "7   35.660072  \n",
       "8   35.804408  \n",
       "9   35.867555  \n",
       "10  35.822450  \n",
       "11  35.434546  \n",
       "12  36.011891  \n",
       "13  35.993852  \n",
       "14  35.398465  \n",
       "15  35.037623  \n",
       "16  34.938391  \n",
       "17  35.064685  \n",
       "18  34.189649  \n",
       "19  34.433213  \n",
       "20  34.117479  \n",
       "21  33.558177  \n",
       "22  33.810764  \n",
       "23  33.928039  \n",
       "24  34.306920  \n",
       "25  34.234753  \n",
       "26  34.794055  \n",
       "27  34.857202  \n",
       "28  34.739928  \n",
       "29  34.866225  \n",
       "30  35.118812  \n",
       "31  33.801745  \n",
       "32  33.467965  \n",
       "33  33.648386  \n",
       "34  33.540135  \n",
       "35  33.828807  \n",
       "36  34.072375  \n",
       "37  34.162583  \n",
       "38  34.343004  \n",
       "39  34.460279  \n",
       "40  34.388109  \n",
       "41  34.559510  \n",
       "42  34.595592  \n",
       "43  34.703846  \n",
       "44  34.776013  \n",
       "45  34.866225  \n",
       "46  35.001538  \n",
       "47  34.978808  \n",
       "48  34.524184  \n",
       "49  34.706031  "
      ]
     },
     "execution_count": 27,
     "metadata": {},
     "output_type": "execute_result"
    }
   ],
   "source": [
    "data.head(n=50)"
   ]
  },
  {
   "cell_type": "code",
   "execution_count": 29,
   "metadata": {
    "collapsed": false
   },
   "outputs": [
    {
     "data": {
      "image/png": "[encoded data removed]",
      "text/plain": [
       "<matplotlib.figure.Figure at 0x1188e4ed0>"
      ]
     },
     "metadata": {},
     "output_type": "display_data"
    }
   ],
   "source": [
    "plt.plot(data[200:300]['Open'])\n",
    "plt.show()"
   ]
  },
  {
   "cell_type": "code",
   "execution_count": 102,
   "metadata": {
    "collapsed": false
   },
   "outputs": [],
   "source": [
    "i=0\n",
    "a=data[i:i+5]\n"
   ]
  },
  {
   "cell_type": "code",
   "execution_count": 103,
   "metadata": {
    "collapsed": false
   },
   "outputs": [
    {
     "data": {
      "text/html": [
       "<div>\n",
       "<table border=\"1\" class=\"dataframe\">\n",
       "  <thead>\n",
       "    <tr style=\"text-align: right;\">\n",
       "      <th></th>\n",
       "      <th>Date</th>\n",
       "      <th>Open</th>\n",
       "      <th>High</th>\n",
       "      <th>Low</th>\n",
       "      <th>Close</th>\n",
       "      <th>Volume</th>\n",
       "      <th>Adj Close</th>\n",
       "    </tr>\n",
       "  </thead>\n",
       "  <tbody>\n",
       "    <tr>\n",
       "      <th>0</th>\n",
       "      <td>2014-01-02</td>\n",
       "      <td>41.119999</td>\n",
       "      <td>41.230000</td>\n",
       "      <td>40.509998</td>\n",
       "      <td>40.660000</td>\n",
       "      <td>12698600</td>\n",
       "      <td>36.679448</td>\n",
       "    </tr>\n",
       "    <tr>\n",
       "      <th>1</th>\n",
       "      <td>2014-01-03</td>\n",
       "      <td>40.680000</td>\n",
       "      <td>40.730000</td>\n",
       "      <td>40.349998</td>\n",
       "      <td>40.459999</td>\n",
       "      <td>10403400</td>\n",
       "      <td>36.499027</td>\n",
       "    </tr>\n",
       "    <tr>\n",
       "      <th>2</th>\n",
       "      <td>2014-01-06</td>\n",
       "      <td>40.480000</td>\n",
       "      <td>40.590000</td>\n",
       "      <td>40.160000</td>\n",
       "      <td>40.270000</td>\n",
       "      <td>11036300</td>\n",
       "      <td>36.327628</td>\n",
       "    </tr>\n",
       "    <tr>\n",
       "      <th>3</th>\n",
       "      <td>2014-01-07</td>\n",
       "      <td>40.480000</td>\n",
       "      <td>40.720001</td>\n",
       "      <td>40.290001</td>\n",
       "      <td>40.389999</td>\n",
       "      <td>11872300</td>\n",
       "      <td>36.435880</td>\n",
       "    </tr>\n",
       "    <tr>\n",
       "      <th>4</th>\n",
       "      <td>2014-01-08</td>\n",
       "      <td>40.439999</td>\n",
       "      <td>40.439999</td>\n",
       "      <td>39.830002</td>\n",
       "      <td>39.939999</td>\n",
       "      <td>15339600</td>\n",
       "      <td>36.029933</td>\n",
       "    </tr>\n",
       "  </tbody>\n",
       "</table>\n",
       "</div>"
      ],
      "text/plain": [
       "         Date       Open       High        Low      Close    Volume  Adj Close\n",
       "0  2014-01-02  41.119999  41.230000  40.509998  40.660000  12698600  36.679448\n",
       "1  2014-01-03  40.680000  40.730000  40.349998  40.459999  10403400  36.499027\n",
       "2  2014-01-06  40.480000  40.590000  40.160000  40.270000  11036300  36.327628\n",
       "3  2014-01-07  40.480000  40.720001  40.290001  40.389999  11872300  36.435880\n",
       "4  2014-01-08  40.439999  40.439999  39.830002  39.939999  15339600  36.029933"
      ]
     },
     "execution_count": 103,
     "metadata": {},
     "output_type": "execute_result"
    }
   ],
   "source": [
    "a"
   ]
  },
  {
   "cell_type": "code",
   "execution_count": 104,
   "metadata": {
    "collapsed": false
   },
   "outputs": [
    {
     "data": {
      "text/html": [
       "<div>\n",
       "<table border=\"1\" class=\"dataframe\">\n",
       "  <thead>\n",
       "    <tr style=\"text-align: right;\">\n",
       "      <th></th>\n",
       "      <th>Date</th>\n",
       "      <th>Open</th>\n",
       "      <th>High</th>\n",
       "      <th>Low</th>\n",
       "      <th>Close</th>\n",
       "      <th>Volume</th>\n",
       "      <th>Adj Close</th>\n",
       "    </tr>\n",
       "  </thead>\n",
       "  <tbody>\n",
       "    <tr>\n",
       "      <th>0</th>\n",
       "      <td>2014-01-02</td>\n",
       "      <td>41.119999</td>\n",
       "      <td>41.230000</td>\n",
       "      <td>40.509998</td>\n",
       "      <td>40.660000</td>\n",
       "      <td>12698600</td>\n",
       "      <td>36.679448</td>\n",
       "    </tr>\n",
       "    <tr>\n",
       "      <th>1</th>\n",
       "      <td>2014-01-03</td>\n",
       "      <td>40.680000</td>\n",
       "      <td>40.730000</td>\n",
       "      <td>40.349998</td>\n",
       "      <td>40.459999</td>\n",
       "      <td>10403400</td>\n",
       "      <td>36.499027</td>\n",
       "    </tr>\n",
       "    <tr>\n",
       "      <th>2</th>\n",
       "      <td>2014-01-06</td>\n",
       "      <td>40.480000</td>\n",
       "      <td>40.590000</td>\n",
       "      <td>40.160000</td>\n",
       "      <td>40.270000</td>\n",
       "      <td>11036300</td>\n",
       "      <td>36.327628</td>\n",
       "    </tr>\n",
       "    <tr>\n",
       "      <th>3</th>\n",
       "      <td>2014-01-07</td>\n",
       "      <td>40.480000</td>\n",
       "      <td>40.720001</td>\n",
       "      <td>40.290001</td>\n",
       "      <td>40.389999</td>\n",
       "      <td>11872300</td>\n",
       "      <td>36.435880</td>\n",
       "    </tr>\n",
       "    <tr>\n",
       "      <th>4</th>\n",
       "      <td>2014-01-08</td>\n",
       "      <td>40.439999</td>\n",
       "      <td>40.439999</td>\n",
       "      <td>39.830002</td>\n",
       "      <td>39.939999</td>\n",
       "      <td>15339600</td>\n",
       "      <td>36.029933</td>\n",
       "    </tr>\n",
       "  </tbody>\n",
       "</table>\n",
       "</div>"
      ],
      "text/plain": [
       "         Date       Open       High        Low      Close    Volume  Adj Close\n",
       "0  2014-01-02  41.119999  41.230000  40.509998  40.660000  12698600  36.679448\n",
       "1  2014-01-03  40.680000  40.730000  40.349998  40.459999  10403400  36.499027\n",
       "2  2014-01-06  40.480000  40.590000  40.160000  40.270000  11036300  36.327628\n",
       "3  2014-01-07  40.480000  40.720001  40.290001  40.389999  11872300  36.435880\n",
       "4  2014-01-08  40.439999  40.439999  39.830002  39.939999  15339600  36.029933"
      ]
     },
     "execution_count": 104,
     "metadata": {},
     "output_type": "execute_result"
    }
   ],
   "source": [
    "df_temp = a\n",
    "df_temp"
   ]
  },
  {
   "cell_type": "code",
   "execution_count": 105,
   "metadata": {
    "collapsed": false
   },
   "outputs": [
    {
     "data": {
      "text/plain": [
       "41.229999999999997"
      ]
     },
     "execution_count": 105,
     "metadata": {},
     "output_type": "execute_result"
    }
   ],
   "source": [
    "HH = df_temp['High'].max()\n",
    "HH"
   ]
  },
  {
   "cell_type": "code",
   "execution_count": 84,
   "metadata": {
    "collapsed": false
   },
   "outputs": [
    {
     "data": {
      "text/html": [
       "<div>\n",
       "<table border=\"1\" class=\"dataframe\">\n",
       "  <thead>\n",
       "    <tr style=\"text-align: right;\">\n",
       "      <th></th>\n",
       "      <th>Date</th>\n",
       "      <th>Open</th>\n",
       "      <th>High</th>\n",
       "      <th>Low</th>\n",
       "      <th>Close</th>\n",
       "      <th>Volume</th>\n",
       "      <th>Adj Close</th>\n",
       "    </tr>\n",
       "  </thead>\n",
       "  <tbody>\n",
       "    <tr>\n",
       "      <th>5</th>\n",
       "      <td>2014-01-09</td>\n",
       "      <td>39.950001</td>\n",
       "      <td>40.000000</td>\n",
       "      <td>39.520000</td>\n",
       "      <td>39.730000</td>\n",
       "      <td>14070200</td>\n",
       "      <td>35.840493</td>\n",
       "    </tr>\n",
       "    <tr>\n",
       "      <th>6</th>\n",
       "      <td>2014-01-10</td>\n",
       "      <td>39.959999</td>\n",
       "      <td>40.290001</td>\n",
       "      <td>39.900002</td>\n",
       "      <td>40.130001</td>\n",
       "      <td>13290000</td>\n",
       "      <td>36.201335</td>\n",
       "    </tr>\n",
       "    <tr>\n",
       "      <th>7</th>\n",
       "      <td>2014-01-13</td>\n",
       "      <td>40.000000</td>\n",
       "      <td>40.130001</td>\n",
       "      <td>39.500000</td>\n",
       "      <td>39.529999</td>\n",
       "      <td>14091900</td>\n",
       "      <td>35.660072</td>\n",
       "    </tr>\n",
       "    <tr>\n",
       "      <th>8</th>\n",
       "      <td>2014-01-14</td>\n",
       "      <td>39.639999</td>\n",
       "      <td>39.919998</td>\n",
       "      <td>39.580002</td>\n",
       "      <td>39.689999</td>\n",
       "      <td>12801100</td>\n",
       "      <td>35.804408</td>\n",
       "    </tr>\n",
       "    <tr>\n",
       "      <th>9</th>\n",
       "      <td>2014-01-15</td>\n",
       "      <td>39.830002</td>\n",
       "      <td>39.939999</td>\n",
       "      <td>39.580002</td>\n",
       "      <td>39.759998</td>\n",
       "      <td>12844900</td>\n",
       "      <td>35.867555</td>\n",
       "    </tr>\n",
       "  </tbody>\n",
       "</table>\n",
       "</div>"
      ],
      "text/plain": [
       "         Date       Open       High        Low      Close    Volume  Adj Close\n",
       "5  2014-01-09  39.950001  40.000000  39.520000  39.730000  14070200  35.840493\n",
       "6  2014-01-10  39.959999  40.290001  39.900002  40.130001  13290000  36.201335\n",
       "7  2014-01-13  40.000000  40.130001  39.500000  39.529999  14091900  35.660072\n",
       "8  2014-01-14  39.639999  39.919998  39.580002  39.689999  12801100  35.804408\n",
       "9  2014-01-15  39.830002  39.939999  39.580002  39.759998  12844900  35.867555"
      ]
     },
     "execution_count": 84,
     "metadata": {},
     "output_type": "execute_result"
    }
   ],
   "source": [
    "data[5:10]"
   ]
  },
  {
   "cell_type": "code",
   "execution_count": 106,
   "metadata": {
    "collapsed": false
   },
   "outputs": [
    {
     "data": {
      "text/plain": [
       "5"
      ]
     },
     "execution_count": 106,
     "metadata": {},
     "output_type": "execute_result"
    }
   ],
   "source": [
    "i = i + 5\n",
    "test = i\n",
    "test"
   ]
  },
  {
   "cell_type": "code",
   "execution_count": 107,
   "metadata": {
    "collapsed": false
   },
   "outputs": [],
   "source": [
    "for n in range(0,5):\n",
    "    if HH < float(data[i+n:i+n+1]['Open']):\n",
    "        break"
   ]
  },
  {
   "cell_type": "code",
   "execution_count": 108,
   "metadata": {
    "collapsed": false
   },
   "outputs": [
    {
     "data": {
      "text/html": [
       "<div>\n",
       "<table border=\"1\" class=\"dataframe\">\n",
       "  <thead>\n",
       "    <tr style=\"text-align: right;\">\n",
       "      <th></th>\n",
       "      <th>Date</th>\n",
       "      <th>Open</th>\n",
       "      <th>High</th>\n",
       "      <th>Low</th>\n",
       "      <th>Close</th>\n",
       "      <th>Volume</th>\n",
       "      <th>Adj Close</th>\n",
       "    </tr>\n",
       "  </thead>\n",
       "  <tbody>\n",
       "    <tr>\n",
       "      <th>9</th>\n",
       "      <td>2014-01-15</td>\n",
       "      <td>39.830002</td>\n",
       "      <td>39.939999</td>\n",
       "      <td>39.580002</td>\n",
       "      <td>39.759998</td>\n",
       "      <td>12844900</td>\n",
       "      <td>35.867555</td>\n",
       "    </tr>\n",
       "  </tbody>\n",
       "</table>\n",
       "</div>"
      ],
      "text/plain": [
       "         Date       Open       High        Low      Close    Volume  Adj Close\n",
       "9  2014-01-15  39.830002  39.939999  39.580002  39.759998  12844900  35.867555"
      ]
     },
     "execution_count": 108,
     "metadata": {},
     "output_type": "execute_result"
    }
   ],
   "source": [
    "data[i+n:i+n+1]"
   ]
  },
  {
   "cell_type": "code",
   "execution_count": 113,
   "metadata": {
    "collapsed": false
   },
   "outputs": [
    {
     "data": {
      "text/plain": [
       "True"
      ]
     },
     "execution_count": 113,
     "metadata": {},
     "output_type": "execute_result"
    }
   ],
   "source": [
    "test+4 == i+n"
   ]
  },
  {
   "cell_type": "code",
   "execution_count": 115,
   "metadata": {
    "collapsed": false
   },
   "outputs": [
    {
     "data": {
      "text/plain": [
       "14"
      ]
     },
     "execution_count": 115,
     "metadata": {},
     "output_type": "execute_result"
    }
   ],
   "source": [
    "i=i+n+1\n",
    "i"
   ]
  },
  {
   "cell_type": "code",
   "execution_count": 123,
   "metadata": {
    "collapsed": true
   },
   "outputs": [],
   "source": [
    "matrix = []"
   ]
  },
  {
   "cell_type": "code",
   "execution_count": 128,
   "metadata": {
    "collapsed": false
   },
   "outputs": [],
   "source": [
    "matrix=1 , 2"
   ]
  },
  {
   "cell_type": "code",
   "execution_count": 126,
   "metadata": {
    "collapsed": true
   },
   "outputs": [],
   "source": [
    "matrix=2"
   ]
  },
  {
   "cell_type": "code",
   "execution_count": 129,
   "metadata": {
    "collapsed": false
   },
   "outputs": [
    {
     "data": {
      "text/plain": [
       "(1, 2)"
      ]
     },
     "execution_count": 129,
     "metadata": {},
     "output_type": "execute_result"
    }
   ],
   "source": [
    "matrix"
   ]
  },
  {
   "cell_type": "code",
   "execution_count": 116,
   "metadata": {
    "collapsed": false
   },
   "outputs": [
    {
     "data": {
      "text/plain": [
       "array([['2014-01-03', 40.68, 40.73, 40.349998, 40.459998999999996,\n",
       "        10403400, 36.499027000000005],\n",
       "       ['2014-01-06', 40.48, 40.59, 40.16, 40.27, 11036300,\n",
       "        36.327628000000004]], dtype=object)"
      ]
     },
     "execution_count": 116,
     "metadata": {},
     "output_type": "execute_result"
    }
   ],
   "source": [
    "df_temp1[1:3]"
   ]
  },
  {
   "cell_type": "code",
   "execution_count": 79,
   "metadata": {
    "collapsed": false
   },
   "outputs": [
    {
     "data": {
      "text/plain": [
       "(5, 7)"
      ]
     },
     "execution_count": 79,
     "metadata": {},
     "output_type": "execute_result"
    }
   ],
   "source": [
    "df_temp.shape"
   ]
  },
  {
   "cell_type": "code",
   "execution_count": 106,
   "metadata": {
    "collapsed": true
   },
   "outputs": [],
   "source": [
    "i=1"
   ]
  },
  {
   "cell_type": "code",
   "execution_count": 107,
   "metadata": {
    "collapsed": false
   },
   "outputs": [
    {
     "data": {
      "text/html": [
       "<div>\n",
       "<table border=\"1\" class=\"dataframe\">\n",
       "  <thead>\n",
       "    <tr style=\"text-align: right;\">\n",
       "      <th></th>\n",
       "      <th>Date</th>\n",
       "      <th>Open</th>\n",
       "      <th>High</th>\n",
       "      <th>Low</th>\n",
       "      <th>Close</th>\n",
       "      <th>Volume</th>\n",
       "      <th>Adj Close</th>\n",
       "    </tr>\n",
       "  </thead>\n",
       "  <tbody>\n",
       "    <tr>\n",
       "      <th>1</th>\n",
       "      <td>2014-01-03</td>\n",
       "      <td>40.680000</td>\n",
       "      <td>40.730000</td>\n",
       "      <td>40.349998</td>\n",
       "      <td>40.459999</td>\n",
       "      <td>10403400</td>\n",
       "      <td>36.499027</td>\n",
       "    </tr>\n",
       "    <tr>\n",
       "      <th>2</th>\n",
       "      <td>2014-01-06</td>\n",
       "      <td>40.480000</td>\n",
       "      <td>40.590000</td>\n",
       "      <td>40.160000</td>\n",
       "      <td>40.270000</td>\n",
       "      <td>11036300</td>\n",
       "      <td>36.327628</td>\n",
       "    </tr>\n",
       "    <tr>\n",
       "      <th>3</th>\n",
       "      <td>2014-01-07</td>\n",
       "      <td>40.480000</td>\n",
       "      <td>40.720001</td>\n",
       "      <td>40.290001</td>\n",
       "      <td>40.389999</td>\n",
       "      <td>11872300</td>\n",
       "      <td>36.435880</td>\n",
       "    </tr>\n",
       "    <tr>\n",
       "      <th>4</th>\n",
       "      <td>2014-01-08</td>\n",
       "      <td>40.439999</td>\n",
       "      <td>40.439999</td>\n",
       "      <td>39.830002</td>\n",
       "      <td>39.939999</td>\n",
       "      <td>15339600</td>\n",
       "      <td>36.029933</td>\n",
       "    </tr>\n",
       "    <tr>\n",
       "      <th>5</th>\n",
       "      <td>2014-01-09</td>\n",
       "      <td>39.950001</td>\n",
       "      <td>40.000000</td>\n",
       "      <td>39.520000</td>\n",
       "      <td>39.730000</td>\n",
       "      <td>14070200</td>\n",
       "      <td>35.840493</td>\n",
       "    </tr>\n",
       "  </tbody>\n",
       "</table>\n",
       "</div>"
      ],
      "text/plain": [
       "         Date       Open       High        Low      Close    Volume  Adj Close\n",
       "1  2014-01-03  40.680000  40.730000  40.349998  40.459999  10403400  36.499027\n",
       "2  2014-01-06  40.480000  40.590000  40.160000  40.270000  11036300  36.327628\n",
       "3  2014-01-07  40.480000  40.720001  40.290001  40.389999  11872300  36.435880\n",
       "4  2014-01-08  40.439999  40.439999  39.830002  39.939999  15339600  36.029933\n",
       "5  2014-01-09  39.950001  40.000000  39.520000  39.730000  14070200  35.840493"
      ]
     },
     "execution_count": 107,
     "metadata": {},
     "output_type": "execute_result"
    }
   ],
   "source": [
    "df_temp[i:i+5]"
   ]
  },
  {
   "cell_type": "code",
   "execution_count": 136,
   "metadata": {
    "collapsed": true
   },
   "outputs": [],
   "source": [
    "def df_temp(x):\n",
    "    df_temp = data[x:x+5]\n",
    "    return df_temp"
   ]
  },
  {
   "cell_type": "code",
   "execution_count": 185,
   "metadata": {
    "collapsed": false
   },
   "outputs": [],
   "source": [
    "i = 0"
   ]
  },
  {
   "cell_type": "code",
   "execution_count": 186,
   "metadata": {
    "collapsed": false
   },
   "outputs": [
    {
     "data": {
      "text/html": [
       "<div>\n",
       "<table border=\"1\" class=\"dataframe\">\n",
       "  <thead>\n",
       "    <tr style=\"text-align: right;\">\n",
       "      <th></th>\n",
       "      <th>Date</th>\n",
       "      <th>Open</th>\n",
       "      <th>High</th>\n",
       "      <th>Low</th>\n",
       "      <th>Close</th>\n",
       "      <th>Volume</th>\n",
       "      <th>Adj Close</th>\n",
       "    </tr>\n",
       "  </thead>\n",
       "  <tbody>\n",
       "    <tr>\n",
       "      <th>0</th>\n",
       "      <td>2014-01-02</td>\n",
       "      <td>41.119999</td>\n",
       "      <td>41.230000</td>\n",
       "      <td>40.509998</td>\n",
       "      <td>40.660000</td>\n",
       "      <td>12698600</td>\n",
       "      <td>36.679448</td>\n",
       "    </tr>\n",
       "    <tr>\n",
       "      <th>1</th>\n",
       "      <td>2014-01-03</td>\n",
       "      <td>40.680000</td>\n",
       "      <td>40.730000</td>\n",
       "      <td>40.349998</td>\n",
       "      <td>40.459999</td>\n",
       "      <td>10403400</td>\n",
       "      <td>36.499027</td>\n",
       "    </tr>\n",
       "    <tr>\n",
       "      <th>2</th>\n",
       "      <td>2014-01-06</td>\n",
       "      <td>40.480000</td>\n",
       "      <td>40.590000</td>\n",
       "      <td>40.160000</td>\n",
       "      <td>40.270000</td>\n",
       "      <td>11036300</td>\n",
       "      <td>36.327628</td>\n",
       "    </tr>\n",
       "    <tr>\n",
       "      <th>3</th>\n",
       "      <td>2014-01-07</td>\n",
       "      <td>40.480000</td>\n",
       "      <td>40.720001</td>\n",
       "      <td>40.290001</td>\n",
       "      <td>40.389999</td>\n",
       "      <td>11872300</td>\n",
       "      <td>36.435880</td>\n",
       "    </tr>\n",
       "    <tr>\n",
       "      <th>4</th>\n",
       "      <td>2014-01-08</td>\n",
       "      <td>40.439999</td>\n",
       "      <td>40.439999</td>\n",
       "      <td>39.830002</td>\n",
       "      <td>39.939999</td>\n",
       "      <td>15339600</td>\n",
       "      <td>36.029933</td>\n",
       "    </tr>\n",
       "  </tbody>\n",
       "</table>\n",
       "</div>"
      ],
      "text/plain": [
       "         Date       Open       High        Low      Close    Volume  Adj Close\n",
       "0  2014-01-02  41.119999  41.230000  40.509998  40.660000  12698600  36.679448\n",
       "1  2014-01-03  40.680000  40.730000  40.349998  40.459999  10403400  36.499027\n",
       "2  2014-01-06  40.480000  40.590000  40.160000  40.270000  11036300  36.327628\n",
       "3  2014-01-07  40.480000  40.720001  40.290001  40.389999  11872300  36.435880\n",
       "4  2014-01-08  40.439999  40.439999  39.830002  39.939999  15339600  36.029933"
      ]
     },
     "execution_count": 186,
     "metadata": {},
     "output_type": "execute_result"
    }
   ],
   "source": [
    "df_temp(i)\n"
   ]
  },
  {
   "cell_type": "code",
   "execution_count": 154,
   "metadata": {
    "collapsed": false
   },
   "outputs": [
    {
     "data": {
      "text/plain": [
       "<function __main__.df_temp>"
      ]
     },
     "execution_count": 154,
     "metadata": {},
     "output_type": "execute_result"
    }
   ],
   "source": []
  },
  {
   "cell_type": "code",
   "execution_count": 187,
   "metadata": {
    "collapsed": false
   },
   "outputs": [],
   "source": [
    "i = i+5"
   ]
  },
  {
   "cell_type": "code",
   "execution_count": 178,
   "metadata": {
    "collapsed": true
   },
   "outputs": [],
   "source": [
    "def HH(x):\n",
    "    Price_ref = df_temp(x)['High'].max()\n",
    "    return Price_ref"
   ]
  },
  {
   "cell_type": "code",
   "execution_count": 191,
   "metadata": {
    "collapsed": false
   },
   "outputs": [
    {
     "data": {
      "text/plain": [
       "5"
      ]
     },
     "execution_count": 191,
     "metadata": {},
     "output_type": "execute_result"
    }
   ],
   "source": [
    "i"
   ]
  },
  {
   "cell_type": "code",
   "execution_count": 193,
   "metadata": {
    "collapsed": false
   },
   "outputs": [],
   "source": [
    "c = float(data[i:i+1]['Open'])"
   ]
  },
  {
   "cell_type": "code",
   "execution_count": 194,
   "metadata": {
    "collapsed": false
   },
   "outputs": [
    {
     "data": {
      "text/plain": [
       "39.950001"
      ]
     },
     "execution_count": 194,
     "metadata": {},
     "output_type": "execute_result"
    }
   ],
   "source": [
    "c"
   ]
  },
  {
   "cell_type": "code",
   "execution_count": 196,
   "metadata": {
    "collapsed": false
   },
   "outputs": [],
   "source": [
    "r = HH(0)"
   ]
  },
  {
   "cell_type": "code",
   "execution_count": 201,
   "metadata": {
    "collapsed": false
   },
   "outputs": [],
   "source": [
    "while r >= float(data[i:i+1]['Open']):\n",
    "    i = i + 1"
   ]
  },
  {
   "cell_type": "code",
   "execution_count": 209,
   "metadata": {
    "collapsed": false
   },
   "outputs": [
    {
     "data": {
      "text/html": [
       "<div>\n",
       "<table border=\"1\" class=\"dataframe\">\n",
       "  <thead>\n",
       "    <tr style=\"text-align: right;\">\n",
       "      <th></th>\n",
       "      <th>Date</th>\n",
       "      <th>Open</th>\n",
       "      <th>High</th>\n",
       "      <th>Low</th>\n",
       "      <th>Close</th>\n",
       "      <th>Volume</th>\n",
       "      <th>Adj Close</th>\n",
       "    </tr>\n",
       "  </thead>\n",
       "  <tbody>\n",
       "    <tr>\n",
       "      <th>116</th>\n",
       "      <td>2014-06-19</td>\n",
       "      <td>41.540001</td>\n",
       "      <td>41.869999</td>\n",
       "      <td>41.529999</td>\n",
       "      <td>41.790001</td>\n",
       "      <td>13275200</td>\n",
       "      <td>38.28328</td>\n",
       "    </tr>\n",
       "  </tbody>\n",
       "</table>\n",
       "</div>"
      ],
      "text/plain": [
       "           Date       Open       High        Low      Close    Volume  \\\n",
       "116  2014-06-19  41.540001  41.869999  41.529999  41.790001  13275200   \n",
       "\n",
       "     Adj Close  \n",
       "116   38.28328  "
      ]
     },
     "execution_count": 209,
     "metadata": {},
     "output_type": "execute_result"
    }
   ],
   "source": []
  },
  {
   "cell_type": "code",
   "execution_count": 210,
   "metadata": {
    "collapsed": false
   },
   "outputs": [],
   "source": [
    "x = data[i:i+1]"
   ]
  },
  {
   "cell_type": "code",
   "execution_count": 211,
   "metadata": {
    "collapsed": false
   },
   "outputs": [],
   "source": [
    "x =x.as_matrix()"
   ]
  },
  {
   "cell_type": "code",
   "execution_count": 227,
   "metadata": {
    "collapsed": false
   },
   "outputs": [
    {
     "data": {
      "text/plain": [
       "41.529999"
      ]
     },
     "execution_count": 227,
     "metadata": {},
     "output_type": "execute_result"
    }
   ],
   "source": [
    "x[0,1:4].min()"
   ]
  },
  {
   "cell_type": "code",
   "execution_count": null,
   "metadata": {
    "collapsed": true
   },
   "outputs": [],
   "source": []
  }
 ],
 "metadata": {
  "anaconda-cloud": {},
  "kernelspec": {
   "display_name": "Python [conda root]",
   "language": "python",
   "name": "conda-root-py"
  },
  "language_info": {
   "codemirror_mode": {
    "name": "ipython",
    "version": 2
   },
   "file_extension": ".py",
   "mimetype": "text/x-python",
   "name": "python",
   "nbconvert_exporter": "python",
   "pygments_lexer": "ipython2",
   "version": "2.7.12"
  }
 },
 "nbformat": 4,
 "nbformat_minor": 1
}
