{
 "cells": [
  {
   "cell_type": "code",
   "execution_count": 1,
   "metadata": {
    "collapsed": true
   },
   "outputs": [],
   "source": [
    "import urllib2\n",
    "import pandas as pd\n",
    "import numpy as np\n",
    "import matplotlib.pyplot as plt"
   ]
  },
  {
   "cell_type": "code",
   "execution_count": 2,
   "metadata": {
    "collapsed": false
   },
   "outputs": [],
   "source": [
    "def read_data(x):\n",
    "    data = pd.read_csv(x)\n",
    "    data = data.reindex(index=data.index[::-1])\n",
    "    data.index = range(len(data))\n",
    "    return data\n",
    "    \n",
    "def min_per_day(x):\n",
    "    y = data.iloc[x].as_matrix()\n",
    "    mpd = y[1:4].min()\n",
    "    return mpd\n",
    "\n",
    "def close_p(x):\n",
    "    cp = data.iloc[x][4]\n",
    "    return cp\n",
    "\n",
    "def open_p(x):\n",
    "    op = data.iloc[x][1]\n",
    "    return op"
   ]
  },
  {
   "cell_type": "code",
   "execution_count": 3,
   "metadata": {
    "collapsed": false
   },
   "outputs": [],
   "source": [
    "def main_loop(data):\n",
    "    #define variables\n",
    "    initial_value = 1000000 #trade size--1000 shares of coca 'KO' stock, assume I have enough fund to buy 1000 shares\n",
    "    mp = 0 #market position--indicate wheter I have any KO stocks on hands: 0 means none shares; 1 menas have shares\n",
    "    iD = 0 #initial date--indicate the index of the first date during calculation \n",
    "    Ratio = np.zeros((51,2)) #profit ratio\n",
    "    #data=read_data(y)\n",
    "    for k in range(51):\n",
    "        iD = 0\n",
    "        initial_value = 1000000\n",
    "        Stop_pct = 0.005 + k * 0.0001\n",
    "        while (iD <= 820):        \n",
    "            if mp == 0:\n",
    "                df_temp = data[iD:iD+5]\n",
    "                HH = df_temp['High'].max()\n",
    "                #print HH\n",
    "                iD = iD + 5\n",
    "#            test = iD\n",
    "\n",
    "#            for n in range(0,5):\n",
    "#                if HH < open_p(iD+n):\n",
    "#                    break\n",
    "#            if test + 4 == iD + n:\n",
    "#                iD = iD + n + 1\n",
    "#                mp = 0\n",
    "\n",
    "#            else:\n",
    "#                iD = iD + n\n",
    "            while HH > open_p(iD) and iD<=820:\n",
    "                iD += 1\n",
    "            #print iD\n",
    "            ep = open_p(iD) #ep is entry price\n",
    "            #print ep\n",
    "            Ts = initial_value / ep\n",
    "            #print Ts\n",
    "            pp = ep #pp is the previous peak price\n",
    "            mp = 1\n",
    "\n",
    "            if mp == 1:\n",
    "                if close_p(iD) > pp:\n",
    "                    pp = close_p(iD)\n",
    "                #print pp\n",
    "                sp = pp * (1 - Stop_pct) #sp is the stop-point of trading, shares sold at this price\n",
    "                iD = iD + 1\n",
    "\n",
    "                while sp < min_per_day(iD) and iD<=820:\n",
    "                    iD = iD + 1\n",
    "                #print iD\n",
    "                end_value = open_p(iD) * Ts #the value of my fund after selling all shares\n",
    "                #print open_p(iD),end_value\n",
    "                initial_value = end_value\n",
    "                mp = 0\n",
    "#    if mp == 1:\n",
    "#        end_value = sp * Ts\n",
    "#    if mp == 0:\n",
    "#        end_value = initial_value\n",
    "        Ratio[k][0] = Stop_pct\n",
    "        Ratio[k][1] = (end_value - 1000000)/1000000\n",
    "    \n",
    "    Return_Ratio = pd.DataFrame({'Stop Precent':Ratio[:,0],'Return Ratio':Ratio[:,1],})\n",
    "    Return_Ratio = Return_Ratio[['Stop Precent','Return Ratio']]\n",
    "    print Return_Ratio\n",
    "    \n",
    "    fig, ax = plt.subplots()\n",
    "    ax.plot(Ratio[:,0],Ratio[:,1])\n",
    "    if len(data)==827:\n",
    "        ax.set_title('Coca Return Ratio')\n",
    "    if len(data)==828:\n",
    "        ax.set_title('Pepsi Return Ratio')\n",
    "    plt.show()\n",
    "    #return Ratio\n",
    "    \n",
    "    \n",
    "#main_loop()"
   ]
  },
  {
   "cell_type": "code",
   "execution_count": 4,
   "metadata": {
    "collapsed": false
   },
   "outputs": [
    {
     "name": "stdout",
     "output_type": "stream",
     "text": [
      "    Stop Precent  Return Ratio\n",
      "0         0.0050      0.013617\n",
      "1         0.0051      0.013617\n",
      "2         0.0052      0.013617\n",
      "3         0.0053      0.013617\n",
      "4         0.0054      0.013617\n",
      "5         0.0055      0.013617\n",
      "6         0.0056      0.013617\n",
      "7         0.0057      0.012419\n",
      "8         0.0058      0.012419\n",
      "9         0.0059      0.012419\n",
      "10        0.0060      0.012419\n",
      "11        0.0061      0.012419\n",
      "12        0.0062      0.012419\n",
      "13        0.0063      0.002505\n",
      "14        0.0064      0.002505\n",
      "15        0.0065      0.002505\n",
      "16        0.0066      0.003445\n",
      "17        0.0067     -0.004287\n",
      "18        0.0068     -0.004287\n",
      "19        0.0069     -0.004287\n",
      "20        0.0070     -0.004287\n",
      "21        0.0071     -0.004287\n",
      "22        0.0072     -0.004287\n",
      "23        0.0073     -0.004287\n",
      "24        0.0074     -0.004287\n",
      "25        0.0075     -0.004287\n",
      "26        0.0076     -0.004287\n",
      "27        0.0077     -0.004287\n",
      "28        0.0078     -0.004287\n",
      "29        0.0079     -0.004287\n",
      "30        0.0080     -0.004287\n",
      "31        0.0081     -0.004287\n",
      "32        0.0082     -0.004287\n",
      "33        0.0083     -0.127587\n",
      "34        0.0084     -0.127587\n",
      "35        0.0085     -0.127587\n",
      "36        0.0086     -0.127587\n",
      "37        0.0087     -0.127587\n",
      "38        0.0088     -0.131979\n",
      "39        0.0089     -0.131979\n",
      "40        0.0090     -0.138141\n",
      "41        0.0091     -0.142903\n",
      "42        0.0092     -0.149596\n",
      "43        0.0093     -0.149596\n",
      "44        0.0094     -0.149596\n",
      "45        0.0095     -0.149596\n",
      "46        0.0096     -0.149596\n",
      "47        0.0097     -0.149596\n",
      "48        0.0098     -0.149596\n",
      "49        0.0099     -0.144171\n",
      "50        0.0100     -0.144171\n"
     ]
    },
    {
     "data": {
      "image/png": "[encoded data removed]",
      "text/plain": [
       "<matplotlib.figure.Figure at 0x114c19dd0>"
      ]
     },
     "metadata": {},
     "output_type": "display_data"
    }
   ],
   "source": [
    "data = read_data('coca.csv')\n",
    "main_loop(data)\n",
    "\n"
   ]
  },
  {
   "cell_type": "code",
   "execution_count": 5,
   "metadata": {
    "collapsed": false
   },
   "outputs": [
    {
     "name": "stdout",
     "output_type": "stream",
     "text": [
      "    Stop Precent  Return Ratio\n",
      "0         0.0050      0.096556\n",
      "1         0.0051      0.115359\n",
      "2         0.0052      0.115441\n",
      "3         0.0053      0.115441\n",
      "4         0.0054      0.115441\n",
      "5         0.0055      0.115441\n",
      "6         0.0056      0.115441\n",
      "7         0.0057      0.115441\n",
      "8         0.0058      0.099191\n",
      "9         0.0059      0.099191\n",
      "10        0.0060      0.099191\n",
      "11        0.0061      0.099191\n",
      "12        0.0062      0.099191\n",
      "13        0.0063      0.099191\n",
      "14        0.0064      0.099191\n",
      "15        0.0065      0.099191\n",
      "16        0.0066      0.099191\n",
      "17        0.0067      0.099191\n",
      "18        0.0068      0.099191\n",
      "19        0.0069      0.099191\n",
      "20        0.0070      0.099191\n",
      "21        0.0071      0.099191\n",
      "22        0.0072      0.099191\n",
      "23        0.0073      0.099191\n",
      "24        0.0074      0.099191\n",
      "25        0.0075      0.099191\n",
      "26        0.0076      0.099191\n",
      "27        0.0077      0.099191\n",
      "28        0.0078      0.099191\n",
      "29        0.0079      0.099191\n",
      "30        0.0080      0.099191\n",
      "31        0.0081      0.099191\n",
      "32        0.0082      0.118523\n",
      "33        0.0083      0.118523\n",
      "34        0.0084      0.118523\n",
      "35        0.0085      0.118523\n",
      "36        0.0086      0.118523\n",
      "37        0.0087      0.118523\n",
      "38        0.0088      0.118523\n",
      "39        0.0089      0.118523\n",
      "40        0.0090      0.118523\n",
      "41        0.0091      0.118523\n",
      "42        0.0092      0.118523\n",
      "43        0.0093      0.087152\n",
      "44        0.0094      0.087152\n",
      "45        0.0095      0.087152\n",
      "46        0.0096      0.087152\n",
      "47        0.0097      0.087152\n",
      "48        0.0098      0.087152\n",
      "49        0.0099      0.087152\n",
      "50        0.0100      0.087152\n"
     ]
    },
    {
     "data": {
      "image/png": "[encoded data removed]",
      "text/plain": [
       "<matplotlib.figure.Figure at 0x114c196d0>"
      ]
     },
     "metadata": {},
     "output_type": "display_data"
    }
   ],
   "source": [
    "data=read_data('pep.csv')\n",
    "main_loop(data)"
   ]
  },
  {
   "cell_type": "code",
   "execution_count": null,
   "metadata": {
    "collapsed": true
   },
   "outputs": [],
   "source": []
  }
 ],
 "metadata": {
  "kernelspec": {
   "display_name": "Python [conda root]",
   "language": "python",
   "name": "conda-root-py"
  },
  "language_info": {
   "codemirror_mode": {
    "name": "ipython",
    "version": 2
   },
   "file_extension": ".py",
   "mimetype": "text/x-python",
   "name": "python",
   "nbconvert_exporter": "python",
   "pygments_lexer": "ipython2",
   "version": "2.7.12"
  }
 },
 "nbformat": 4,
 "nbformat_minor": 2
}
