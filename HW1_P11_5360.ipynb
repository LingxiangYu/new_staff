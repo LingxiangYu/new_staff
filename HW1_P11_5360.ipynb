{
 "cells": [
  {
   "cell_type": "code",
   "execution_count": 1,
   "metadata": {
    "collapsed": false
   },
   "outputs": [
    {
     "name": "stdout",
     "output_type": "stream",
     "text": [
      "  Date    Time   Open    High    Low    Close  Volume\n",
      "-------- ----- ------- ------- ------- ------- ------\n",
      "09/10/97 08:31  1089.0 1089.25  1089.0 1089.25      0\n",
      "09/10/97 08:32  1089.0  1089.0 1088.75  1089.0      0\n",
      "09/10/97 08:33 1088.75  1089.0  1088.5 1088.75      0\n",
      "09/10/97 08:34  1089.0  1089.5  1089.0 1089.25      0\n",
      "09/10/97 08:35 1089.25 1089.25  1088.5  1088.5      0\n",
      "09/10/97 08:36 1088.25  1088.5 1087.75 1087.75      0\n",
      "09/10/97 08:37  1088.0 1088.25  1088.0 1088.25      0\n",
      "09/10/97 08:38 1088.25 1088.25  1087.5 1087.75      0\n",
      "09/10/97 08:39  1087.5 1088.75  1087.5 1088.75      0\n",
      "09/10/97 08:40  1088.5  1088.5  1087.5  1087.5      0\n",
      "     ...   ...     ...     ...     ...     ...    ...\n",
      "01/27/17 15:05  2289.5 2289.75 2289.25 2289.75   4163\n",
      "01/27/17 15:06 2289.75 2289.75  2289.5  2289.5    529\n",
      "01/27/17 15:07 2289.75 2289.75  2289.5  2289.5    854\n",
      "01/27/17 15:08 2289.75 2289.75  2289.5  2289.5    986\n",
      "01/27/17 15:09 2289.75 2289.75  2289.5 2289.75   1173\n",
      "01/27/17 15:10  2289.5 2289.75 2289.25  2289.5   2140\n",
      "01/27/17 15:11 2289.25  2289.5 2289.25 2289.25    668\n",
      "01/27/17 15:12 2289.25  2289.5 2289.25  2289.5    611\n",
      "01/27/17 15:13  2289.5  2289.5 2289.25 2289.25    839\n",
      "01/27/17 15:14  2289.5  2289.5  2289.0  2289.0   1662\n",
      "01/27/17 15:15  2289.0  2289.5 2288.75 2288.75   9435\n",
      "Length = 1981244 rows\n"
     ]
    }
   ],
   "source": [
    "from astropy.io import ascii\n",
    "data = ascii.read(\"ES.asc\")\n",
    "print(data)"
   ]
  },
  {
   "cell_type": "code",
   "execution_count": 2,
   "metadata": {
    "collapsed": true
   },
   "outputs": [],
   "source": [
    "colval = data['Close']"
   ]
  },
  {
   "cell_type": "code",
   "execution_count": 3,
   "metadata": {
    "collapsed": false
   },
   "outputs": [
    {
     "name": "stdout",
     "output_type": "stream",
     "text": [
      " Close \n",
      "-------\n",
      "1089.25\n",
      " 1089.0\n",
      "1088.75\n",
      "1089.25\n",
      " 1088.5\n",
      "1087.75\n",
      "1088.25\n",
      "1087.75\n",
      "1088.75\n",
      " 1087.5\n",
      "    ...\n",
      "2289.75\n",
      " 2289.5\n",
      " 2289.5\n",
      " 2289.5\n",
      "2289.75\n",
      " 2289.5\n",
      "2289.25\n",
      " 2289.5\n",
      "2289.25\n",
      " 2289.0\n",
      "2288.75\n",
      "Length = 1981244 rows\n"
     ]
    }
   ],
   "source": [
    "print(colval)"
   ]
  },
  {
   "cell_type": "code",
   "execution_count": 6,
   "metadata": {
    "collapsed": false
   },
   "outputs": [
    {
     "data": {
      "text/plain": [
       "1089.25"
      ]
     },
     "execution_count": 6,
     "metadata": {},
     "output_type": "execute_result"
    }
   ],
   "source": [
    "colval[0]"
   ]
  },
  {
   "cell_type": "code",
   "execution_count": 7,
   "metadata": {
    "collapsed": false
   },
   "outputs": [
    {
     "data": {
      "text/plain": [
       "astropy.table.column.Column"
      ]
     },
     "execution_count": 7,
     "metadata": {},
     "output_type": "execute_result"
    }
   ],
   "source": [
    "type(colval)"
   ]
  },
  {
   "cell_type": "code",
   "execution_count": 9,
   "metadata": {
    "collapsed": false
   },
   "outputs": [
    {
     "ename": "SyntaxError",
     "evalue": "invalid syntax (<ipython-input-9-893c1bb83669>, line 1)",
     "output_type": "error",
     "traceback": [
      "\u001b[0;36m  File \u001b[0;32m\"<ipython-input-9-893c1bb83669>\"\u001b[0;36m, line \u001b[0;32m1\u001b[0m\n\u001b[0;31m    colval[1 to 2]\u001b[0m\n\u001b[0m              ^\u001b[0m\n\u001b[0;31mSyntaxError\u001b[0m\u001b[0;31m:\u001b[0m invalid syntax\n"
     ]
    }
   ],
   "source": [
    "colval[1 to 2]"
   ]
  },
  {
   "cell_type": "code",
   "execution_count": 10,
   "metadata": {
    "collapsed": false
   },
   "outputs": [
    {
     "ename": "IndexError",
     "evalue": "too many indices for array",
     "output_type": "error",
     "traceback": [
      "\u001b[0;31m---------------------------------------------------------------------------\u001b[0m",
      "\u001b[0;31mIndexError\u001b[0m                                Traceback (most recent call last)",
      "\u001b[0;32m<ipython-input-10-1e3c2311650a>\u001b[0m in \u001b[0;36m<module>\u001b[0;34m()\u001b[0m\n\u001b[0;32m----> 1\u001b[0;31m \u001b[0mcolval\u001b[0m\u001b[0;34m[\u001b[0m\u001b[0;36m1\u001b[0m\u001b[0;34m,\u001b[0m\u001b[0;36m2\u001b[0m\u001b[0;34m]\u001b[0m\u001b[0;34m\u001b[0m\u001b[0m\n\u001b[0m",
      "\u001b[0;32mastropy/table/_column_mixins.pyx\u001b[0m in \u001b[0;36mastropy.table._column_mixins._ColumnGetitemShim.__getitem__ (astropy/table/_column_mixins.c:942)\u001b[0;34m()\u001b[0m\n",
      "\u001b[0;32mastropy/table/_column_mixins.pyx\u001b[0m in \u001b[0;36mastropy.table._column_mixins.base_getitem (astropy/table/_column_mixins.c:834)\u001b[0;34m()\u001b[0m\n",
      "\u001b[0;32mastropy/table/_column_mixins.pyx\u001b[0m in \u001b[0;36mastropy.table._column_mixins.column_getitem (astropy/table/_column_mixins.c:882)\u001b[0;34m()\u001b[0m\n",
      "\u001b[0;31mIndexError\u001b[0m: too many indices for array"
     ]
    }
   ],
   "source": [
    "colval[1,2]"
   ]
  },
  {
   "cell_type": "code",
   "execution_count": 18,
   "metadata": {
    "collapsed": false,
    "scrolled": true
   },
   "outputs": [],
   "source": [
    "import numpy as np\n",
    "i=np.arange(2,10,1)"
   ]
  },
  {
   "cell_type": "code",
   "execution_count": 19,
   "metadata": {
    "collapsed": false
   },
   "outputs": [
    {
     "data": {
      "text/html": [
       "&lt;Column name=&apos;Close&apos; dtype=&apos;float64&apos; length=8&gt;\n",
       "<table>\n",
       "<tr><td>1088.75</td></tr>\n",
       "<tr><td>1089.25</td></tr>\n",
       "<tr><td>1088.5</td></tr>\n",
       "<tr><td>1087.75</td></tr>\n",
       "<tr><td>1088.25</td></tr>\n",
       "<tr><td>1087.75</td></tr>\n",
       "<tr><td>1088.75</td></tr>\n",
       "<tr><td>1087.5</td></tr>\n",
       "</table>"
      ],
      "text/plain": [
       "<Column name='Close' dtype='float64' length=8>\n",
       "1088.75\n",
       "1089.25\n",
       " 1088.5\n",
       "1087.75\n",
       "1088.25\n",
       "1087.75\n",
       "1088.75\n",
       " 1087.5"
      ]
     },
     "execution_count": 19,
     "metadata": {},
     "output_type": "execute_result"
    }
   ],
   "source": [
    "colval[i]"
   ]
  },
  {
   "cell_type": "code",
   "execution_count": 21,
   "metadata": {
    "collapsed": false
   },
   "outputs": [
    {
     "data": {
      "text/plain": [
       "1981244"
      ]
     },
     "execution_count": 21,
     "metadata": {},
     "output_type": "execute_result"
    }
   ],
   "source": [
    "len(data)"
   ]
  },
  {
   "cell_type": "code",
   "execution_count": 29,
   "metadata": {
    "collapsed": false
   },
   "outputs": [
    {
     "name": "stdout",
     "output_type": "stream",
     "text": [
      "  Date    Time  Open    High   Low    Close  Volume\n",
      "-------- ----- ------ ------- ------ ------- ------\n",
      "09/10/97 08:31 1089.0 1089.25 1089.0 1089.25      0\n"
     ]
    }
   ],
   "source": [
    "t2 = data['Date' is '09/11/97']\n",
    "print t2"
   ]
  },
  {
   "cell_type": "code",
   "execution_count": 25,
   "metadata": {
    "collapsed": false
   },
   "outputs": [
    {
     "name": "stdout",
     "output_type": "stream",
     "text": [
      "  Date    Time  Open    High   Low    Close  Volume\n",
      "-------- ----- ------ ------- ------ ------- ------\n",
      "09/10/97 08:31 1089.0 1089.25 1089.0 1089.25      0\n"
     ]
    }
   ],
   "source": []
  },
  {
   "cell_type": "code",
   "execution_count": 30,
   "metadata": {
    "collapsed": false
   },
   "outputs": [
    {
     "name": "stdout",
     "output_type": "stream",
     "text": [
      "  Date    Time  Open    High   Low    Close  Volume\n",
      "-------- ----- ------ ------- ------ ------- ------\n",
      "09/10/97 08:31 1089.0 1089.25 1089.0 1089.25      0\n"
     ]
    }
   ],
   "source": [
    "t2 = data['Date' is '09/11/97']\n",
    "print t2"
   ]
  },
  {
   "cell_type": "code",
   "execution_count": 31,
   "metadata": {
    "collapsed": true
   },
   "outputs": [],
   "source": [
    "t1 = data[data['Date'] is '09/10/97']"
   ]
  },
  {
   "cell_type": "code",
   "execution_count": 32,
   "metadata": {
    "collapsed": false
   },
   "outputs": [
    {
     "name": "stdout",
     "output_type": "stream",
     "text": [
      "  Date    Time  Open    High   Low    Close  Volume\n",
      "-------- ----- ------ ------- ------ ------- ------\n",
      "09/10/97 08:31 1089.0 1089.25 1089.0 1089.25      0\n"
     ]
    }
   ],
   "source": [
    "print t1"
   ]
  },
  {
   "cell_type": "code",
   "execution_count": 34,
   "metadata": {
    "collapsed": false
   },
   "outputs": [
    {
     "name": "stdout",
     "output_type": "stream",
     "text": [
      "  Date  \n",
      "--------\n",
      "09/10/97\n",
      "09/10/97\n",
      "09/10/97\n",
      "09/10/97\n",
      "09/10/97\n",
      "09/10/97\n",
      "09/10/97\n",
      "09/10/97\n",
      "09/10/97\n",
      "09/10/97\n",
      "     ...\n",
      "01/27/17\n",
      "01/27/17\n",
      "01/27/17\n",
      "01/27/17\n",
      "01/27/17\n",
      "01/27/17\n",
      "01/27/17\n",
      "01/27/17\n",
      "01/27/17\n",
      "01/27/17\n",
      "01/27/17\n",
      "Length = 1981244 rows\n"
     ]
    }
   ],
   "source": [
    "t0 = data['Date']\n",
    "print t0"
   ]
  },
  {
   "cell_type": "code",
   "execution_count": 35,
   "metadata": {
    "collapsed": false
   },
   "outputs": [
    {
     "data": {
      "text/plain": [
       "astropy.table.column.Column"
      ]
     },
     "execution_count": 35,
     "metadata": {},
     "output_type": "execute_result"
    }
   ],
   "source": [
    "type(t0)"
   ]
  },
  {
   "cell_type": "code",
   "execution_count": 36,
   "metadata": {
    "collapsed": false
   },
   "outputs": [
    {
     "data": {
      "text/plain": [
       "'09/10/97'"
      ]
     },
     "execution_count": 36,
     "metadata": {},
     "output_type": "execute_result"
    }
   ],
   "source": [
    "t0[1]"
   ]
  },
  {
   "cell_type": "code",
   "execution_count": 41,
   "metadata": {
    "collapsed": false
   },
   "outputs": [
    {
     "data": {
      "text/plain": [
       "False"
      ]
     },
     "execution_count": 41,
     "metadata": {},
     "output_type": "execute_result"
    }
   ],
   "source": [
    "t0[1] == '09/12/07'"
   ]
  },
  {
   "cell_type": "code",
   "execution_count": 42,
   "metadata": {
    "collapsed": true
   },
   "outputs": [],
   "source": [
    "t1 = t0[t0[:]=='09/10/97']"
   ]
  },
  {
   "cell_type": "code",
   "execution_count": 43,
   "metadata": {
    "collapsed": false
   },
   "outputs": [
    {
     "name": "stdout",
     "output_type": "stream",
     "text": [
      "  Date  \n",
      "--------\n",
      "09/10/97\n",
      "09/10/97\n",
      "09/10/97\n",
      "09/10/97\n",
      "09/10/97\n",
      "09/10/97\n",
      "09/10/97\n",
      "09/10/97\n",
      "09/10/97\n",
      "09/10/97\n",
      "     ...\n",
      "09/10/97\n",
      "09/10/97\n",
      "09/10/97\n",
      "09/10/97\n",
      "09/10/97\n",
      "09/10/97\n",
      "09/10/97\n",
      "09/10/97\n",
      "09/10/97\n",
      "09/10/97\n",
      "09/10/97\n",
      "Length = 405 rows\n"
     ]
    }
   ],
   "source": [
    "print t1"
   ]
  },
  {
   "cell_type": "code",
   "execution_count": 44,
   "metadata": {
    "collapsed": false
   },
   "outputs": [
    {
     "name": "stdout",
     "output_type": "stream",
     "text": [
      "  Date    Time   Open    High    Low    Close  Volume\n",
      "-------- ----- ------- ------- ------- ------- ------\n",
      "09/10/97 08:31  1089.0 1089.25  1089.0 1089.25      0\n",
      "09/10/97 08:32  1089.0  1089.0 1088.75  1089.0      0\n",
      "09/10/97 08:33 1088.75  1089.0  1088.5 1088.75      0\n",
      "09/10/97 08:34  1089.0  1089.5  1089.0 1089.25      0\n",
      "09/10/97 08:35 1089.25 1089.25  1088.5  1088.5      0\n",
      "09/10/97 08:36 1088.25  1088.5 1087.75 1087.75      0\n",
      "09/10/97 08:37  1088.0 1088.25  1088.0 1088.25      0\n",
      "09/10/97 08:38 1088.25 1088.25  1087.5 1087.75      0\n",
      "09/10/97 08:39  1087.5 1088.75  1087.5 1088.75      0\n",
      "09/10/97 08:40  1088.5  1088.5  1087.5  1087.5      0\n",
      "     ...   ...     ...     ...     ...     ...    ...\n",
      "09/10/97 15:05  1077.0 1077.75  1077.0 1077.25      0\n",
      "09/10/97 15:06  1077.0 1077.75 1076.75  1077.5      0\n",
      "09/10/97 15:07 1077.75 1077.75  1076.5  1076.5      0\n",
      "09/10/97 15:08 1076.25 1076.25 1075.75 1075.75      0\n",
      "09/10/97 15:09 1075.75 1076.25  1075.5 1076.25      0\n",
      "09/10/97 15:10 1076.25 1076.75 1075.75 1076.25      0\n",
      "09/10/97 15:11 1076.25  1076.5 1076.25 1076.25      0\n",
      "09/10/97 15:12  1076.5 1076.75  1076.5 1076.75      0\n",
      "09/10/97 15:13 1076.75 1076.75 1075.75 1075.75      0\n",
      "09/10/97 15:14 1075.75  1076.0 1074.75 1074.75      0\n",
      "09/10/97 15:15 1074.75 1075.25 1073.25  1073.5      0\n",
      "Length = 405 rows\n"
     ]
    }
   ],
   "source": [
    "t2 = data[t0[:]=='09/10/97']\n",
    "print t2"
   ]
  },
  {
   "cell_type": "code",
   "execution_count": 61,
   "metadata": {
    "collapsed": false
   },
   "outputs": [
    {
     "ename": "PandasError",
     "evalue": "DataFrame constructor not properly called!",
     "output_type": "error",
     "traceback": [
      "\u001b[0;31m---------------------------------------------------------------------------\u001b[0m",
      "\u001b[0;31mPandasError\u001b[0m                               Traceback (most recent call last)",
      "\u001b[0;32m<ipython-input-61-388f88a16ccc>\u001b[0m in \u001b[0;36m<module>\u001b[0;34m()\u001b[0m\n\u001b[1;32m      1\u001b[0m \u001b[0;32mimport\u001b[0m \u001b[0mnumpy\u001b[0m \u001b[0;32mas\u001b[0m \u001b[0mnp\u001b[0m\u001b[0;34m\u001b[0m\u001b[0m\n\u001b[1;32m      2\u001b[0m \u001b[0;32mimport\u001b[0m \u001b[0mpandas\u001b[0m \u001b[0;32mas\u001b[0m \u001b[0mpd\u001b[0m\u001b[0;34m\u001b[0m\u001b[0m\n\u001b[0;32m----> 3\u001b[0;31m \u001b[0mpd\u001b[0m\u001b[0;34m.\u001b[0m\u001b[0mDataFrame\u001b[0m\u001b[0;34m(\u001b[0m\u001b[0mt2\u001b[0m\u001b[0;34m)\u001b[0m\u001b[0;34m.\u001b[0m\u001b[0mgroupby\u001b[0m\u001b[0;34m[\u001b[0m\u001b[0;34m'Date'\u001b[0m\u001b[0;34m]\u001b[0m\u001b[0;34m[\u001b[0m\u001b[0;34m'Open'\u001b[0m\u001b[0;34m]\u001b[0m\u001b[0;34m.\u001b[0m\u001b[0mmean\u001b[0m\u001b[0;34m(\u001b[0m\u001b[0;34m)\u001b[0m\u001b[0;34m\u001b[0m\u001b[0m\n\u001b[0m",
      "\u001b[0;32m/Users/lingxiangyu/anaconda/lib/python2.7/site-packages/pandas/core/frame.pyc\u001b[0m in \u001b[0;36m__init__\u001b[0;34m(self, data, index, columns, dtype, copy)\u001b[0m\n\u001b[1;32m    301\u001b[0m                                          copy=False)\n\u001b[1;32m    302\u001b[0m             \u001b[0;32melse\u001b[0m\u001b[0;34m:\u001b[0m\u001b[0;34m\u001b[0m\u001b[0m\n\u001b[0;32m--> 303\u001b[0;31m                 \u001b[0;32mraise\u001b[0m \u001b[0mPandasError\u001b[0m\u001b[0;34m(\u001b[0m\u001b[0;34m'DataFrame constructor not properly called!'\u001b[0m\u001b[0;34m)\u001b[0m\u001b[0;34m\u001b[0m\u001b[0m\n\u001b[0m\u001b[1;32m    304\u001b[0m \u001b[0;34m\u001b[0m\u001b[0m\n\u001b[1;32m    305\u001b[0m         \u001b[0mNDFrame\u001b[0m\u001b[0;34m.\u001b[0m\u001b[0m__init__\u001b[0m\u001b[0;34m(\u001b[0m\u001b[0mself\u001b[0m\u001b[0;34m,\u001b[0m \u001b[0mmgr\u001b[0m\u001b[0;34m,\u001b[0m \u001b[0mfastpath\u001b[0m\u001b[0;34m=\u001b[0m\u001b[0mTrue\u001b[0m\u001b[0;34m)\u001b[0m\u001b[0;34m\u001b[0m\u001b[0m\n",
      "\u001b[0;31mPandasError\u001b[0m: DataFrame constructor not properly called!"
     ]
    }
   ],
   "source": [
    "import numpy as np\n",
    "import pandas as pd\n",
    "pd.DataFrame(t2).groupby['Date']['Open'].mean()"
   ]
  },
  {
   "cell_type": "code",
   "execution_count": 53,
   "metadata": {
    "collapsed": false
   },
   "outputs": [
    {
     "ename": "AttributeError",
     "evalue": "'module' object has no attribute 'group'",
     "output_type": "error",
     "traceback": [
      "\u001b[0;31m---------------------------------------------------------------------------\u001b[0m",
      "\u001b[0;31mAttributeError\u001b[0m                            Traceback (most recent call last)",
      "\u001b[0;32m<ipython-input-53-704a96f2c46e>\u001b[0m in \u001b[0;36m<module>\u001b[0;34m()\u001b[0m\n\u001b[1;32m      1\u001b[0m \u001b[0;32mfrom\u001b[0m \u001b[0mastropy\u001b[0m\u001b[0;34m.\u001b[0m\u001b[0mio\u001b[0m \u001b[0;32mimport\u001b[0m \u001b[0mvotable\u001b[0m\u001b[0;34m\u001b[0m\u001b[0m\n\u001b[0;32m----> 2\u001b[0;31m \u001b[0mt3\u001b[0m \u001b[0;34m=\u001b[0m \u001b[0mvotable\u001b[0m\u001b[0;34m.\u001b[0m\u001b[0mgroup\u001b[0m\u001b[0;34m(\u001b[0m\u001b[0mdata\u001b[0m\u001b[0;34m[\u001b[0m\u001b[0;34m'Date'\u001b[0m\u001b[0;34m]\u001b[0m\u001b[0;34m)\u001b[0m\u001b[0;34m\u001b[0m\u001b[0m\n\u001b[0m",
      "\u001b[0;31mAttributeError\u001b[0m: 'module' object has no attribute 'group'"
     ]
    }
   ],
   "source": [
    "from astropy.io import votable\n",
    "t3 = votable.group(data['Date'])"
   ]
  },
  {
   "cell_type": "code",
   "execution_count": 62,
   "metadata": {
    "collapsed": false
   },
   "outputs": [
    {
     "data": {
      "text/html": [
       "&lt;Table length=405&gt;\n",
       "<table id=\"table5847974544\" class=\"table-striped table-bordered table-condensed\">\n",
       "<thead><tr><th>Date</th><th>Time</th><th>Open</th><th>High</th><th>Low</th><th>Close</th><th>Volume</th></tr></thead>\n",
       "<thead><tr><th>str8</th><th>str5</th><th>float64</th><th>float64</th><th>float64</th><th>float64</th><th>int64</th></tr></thead>\n",
       "<tr><td>09/10/97</td><td>08:31</td><td>1089.0</td><td>1089.25</td><td>1089.0</td><td>1089.25</td><td>0</td></tr>\n",
       "<tr><td>09/10/97</td><td>08:32</td><td>1089.0</td><td>1089.0</td><td>1088.75</td><td>1089.0</td><td>0</td></tr>\n",
       "<tr><td>09/10/97</td><td>08:33</td><td>1088.75</td><td>1089.0</td><td>1088.5</td><td>1088.75</td><td>0</td></tr>\n",
       "<tr><td>09/10/97</td><td>08:34</td><td>1089.0</td><td>1089.5</td><td>1089.0</td><td>1089.25</td><td>0</td></tr>\n",
       "<tr><td>09/10/97</td><td>08:35</td><td>1089.25</td><td>1089.25</td><td>1088.5</td><td>1088.5</td><td>0</td></tr>\n",
       "<tr><td>09/10/97</td><td>08:36</td><td>1088.25</td><td>1088.5</td><td>1087.75</td><td>1087.75</td><td>0</td></tr>\n",
       "<tr><td>09/10/97</td><td>08:37</td><td>1088.0</td><td>1088.25</td><td>1088.0</td><td>1088.25</td><td>0</td></tr>\n",
       "<tr><td>09/10/97</td><td>08:38</td><td>1088.25</td><td>1088.25</td><td>1087.5</td><td>1087.75</td><td>0</td></tr>\n",
       "<tr><td>09/10/97</td><td>08:39</td><td>1087.5</td><td>1088.75</td><td>1087.5</td><td>1088.75</td><td>0</td></tr>\n",
       "<tr><td>09/10/97</td><td>08:40</td><td>1088.5</td><td>1088.5</td><td>1087.5</td><td>1087.5</td><td>0</td></tr>\n",
       "<tr><td>...</td><td>...</td><td>...</td><td>...</td><td>...</td><td>...</td><td>...</td></tr>\n",
       "<tr><td>09/10/97</td><td>15:06</td><td>1077.0</td><td>1077.75</td><td>1076.75</td><td>1077.5</td><td>0</td></tr>\n",
       "<tr><td>09/10/97</td><td>15:07</td><td>1077.75</td><td>1077.75</td><td>1076.5</td><td>1076.5</td><td>0</td></tr>\n",
       "<tr><td>09/10/97</td><td>15:08</td><td>1076.25</td><td>1076.25</td><td>1075.75</td><td>1075.75</td><td>0</td></tr>\n",
       "<tr><td>09/10/97</td><td>15:09</td><td>1075.75</td><td>1076.25</td><td>1075.5</td><td>1076.25</td><td>0</td></tr>\n",
       "<tr><td>09/10/97</td><td>15:10</td><td>1076.25</td><td>1076.75</td><td>1075.75</td><td>1076.25</td><td>0</td></tr>\n",
       "<tr><td>09/10/97</td><td>15:11</td><td>1076.25</td><td>1076.5</td><td>1076.25</td><td>1076.25</td><td>0</td></tr>\n",
       "<tr><td>09/10/97</td><td>15:12</td><td>1076.5</td><td>1076.75</td><td>1076.5</td><td>1076.75</td><td>0</td></tr>\n",
       "<tr><td>09/10/97</td><td>15:13</td><td>1076.75</td><td>1076.75</td><td>1075.75</td><td>1075.75</td><td>0</td></tr>\n",
       "<tr><td>09/10/97</td><td>15:14</td><td>1075.75</td><td>1076.0</td><td>1074.75</td><td>1074.75</td><td>0</td></tr>\n",
       "<tr><td>09/10/97</td><td>15:15</td><td>1074.75</td><td>1075.25</td><td>1073.25</td><td>1073.5</td><td>0</td></tr>\n",
       "</table>"
      ],
      "text/plain": [
       "<Table length=405>\n",
       "  Date    Time   Open    High    Low    Close  Volume\n",
       "  str8    str5 float64 float64 float64 float64 int64 \n",
       "-------- ----- ------- ------- ------- ------- ------\n",
       "09/10/97 08:31  1089.0 1089.25  1089.0 1089.25      0\n",
       "09/10/97 08:32  1089.0  1089.0 1088.75  1089.0      0\n",
       "09/10/97 08:33 1088.75  1089.0  1088.5 1088.75      0\n",
       "09/10/97 08:34  1089.0  1089.5  1089.0 1089.25      0\n",
       "09/10/97 08:35 1089.25 1089.25  1088.5  1088.5      0\n",
       "09/10/97 08:36 1088.25  1088.5 1087.75 1087.75      0\n",
       "09/10/97 08:37  1088.0 1088.25  1088.0 1088.25      0\n",
       "09/10/97 08:38 1088.25 1088.25  1087.5 1087.75      0\n",
       "09/10/97 08:39  1087.5 1088.75  1087.5 1088.75      0\n",
       "09/10/97 08:40  1088.5  1088.5  1087.5  1087.5      0\n",
       "     ...   ...     ...     ...     ...     ...    ...\n",
       "09/10/97 15:06  1077.0 1077.75 1076.75  1077.5      0\n",
       "09/10/97 15:07 1077.75 1077.75  1076.5  1076.5      0\n",
       "09/10/97 15:08 1076.25 1076.25 1075.75 1075.75      0\n",
       "09/10/97 15:09 1075.75 1076.25  1075.5 1076.25      0\n",
       "09/10/97 15:10 1076.25 1076.75 1075.75 1076.25      0\n",
       "09/10/97 15:11 1076.25  1076.5 1076.25 1076.25      0\n",
       "09/10/97 15:12  1076.5 1076.75  1076.5 1076.75      0\n",
       "09/10/97 15:13 1076.75 1076.75 1075.75 1075.75      0\n",
       "09/10/97 15:14 1075.75  1076.0 1074.75 1074.75      0\n",
       "09/10/97 15:15 1074.75 1075.25 1073.25  1073.5      0"
      ]
     },
     "execution_count": 62,
     "metadata": {},
     "output_type": "execute_result"
    }
   ],
   "source": [
    "t2"
   ]
  },
  {
   "cell_type": "code",
   "execution_count": 63,
   "metadata": {
    "collapsed": false
   },
   "outputs": [
    {
     "ename": "AttributeError",
     "evalue": "'Table' object has no attribute 'groupby'",
     "output_type": "error",
     "traceback": [
      "\u001b[0;31m---------------------------------------------------------------------------\u001b[0m",
      "\u001b[0;31mAttributeError\u001b[0m                            Traceback (most recent call last)",
      "\u001b[0;32m<ipython-input-63-20cadfde968d>\u001b[0m in \u001b[0;36m<module>\u001b[0;34m()\u001b[0m\n\u001b[0;32m----> 1\u001b[0;31m \u001b[0mt2\u001b[0m\u001b[0;34m.\u001b[0m\u001b[0mgroupby\u001b[0m\u001b[0;34m(\u001b[0m\u001b[0;34m[\u001b[0m\u001b[0;34m'Date'\u001b[0m\u001b[0;34m]\u001b[0m\u001b[0;34m)\u001b[0m\u001b[0;34m[\u001b[0m\u001b[0;34m'Close'\u001b[0m\u001b[0;34m]\u001b[0m\u001b[0;34m.\u001b[0m\u001b[0mmean\u001b[0m\u001b[0;34m(\u001b[0m\u001b[0;34m)\u001b[0m\u001b[0;34m\u001b[0m\u001b[0m\n\u001b[0m",
      "\u001b[0;31mAttributeError\u001b[0m: 'Table' object has no attribute 'groupby'"
     ]
    }
   ],
   "source": [
    "t2.groupby(['Date'])['Close'].mean()"
   ]
  },
  {
   "cell_type": "code",
   "execution_count": 64,
   "metadata": {
    "collapsed": false
   },
   "outputs": [
    {
     "ename": "NameError",
     "evalue": "name 'DataFrame' is not defined",
     "output_type": "error",
     "traceback": [
      "\u001b[0;31m---------------------------------------------------------------------------\u001b[0m",
      "\u001b[0;31mNameError\u001b[0m                                 Traceback (most recent call last)",
      "\u001b[0;32m<ipython-input-64-08614960367f>\u001b[0m in \u001b[0;36m<module>\u001b[0;34m()\u001b[0m\n\u001b[0;32m----> 1\u001b[0;31m \u001b[0mDataFrame\u001b[0m\u001b[0;34m(\u001b[0m\u001b[0mt2\u001b[0m\u001b[0;34m)\u001b[0m\u001b[0;34m\u001b[0m\u001b[0m\n\u001b[0m",
      "\u001b[0;31mNameError\u001b[0m: name 'DataFrame' is not defined"
     ]
    }
   ],
   "source": [
    "DataFrame(t2)"
   ]
  },
  {
   "cell_type": "code",
   "execution_count": 65,
   "metadata": {
    "collapsed": false
   },
   "outputs": [
    {
     "ename": "PandasError",
     "evalue": "DataFrame constructor not properly called!",
     "output_type": "error",
     "traceback": [
      "\u001b[0;31m---------------------------------------------------------------------------\u001b[0m",
      "\u001b[0;31mPandasError\u001b[0m                               Traceback (most recent call last)",
      "\u001b[0;32m<ipython-input-65-ccdb42c8162f>\u001b[0m in \u001b[0;36m<module>\u001b[0;34m()\u001b[0m\n\u001b[0;32m----> 1\u001b[0;31m \u001b[0mpd\u001b[0m\u001b[0;34m.\u001b[0m\u001b[0mDataFrame\u001b[0m\u001b[0;34m(\u001b[0m\u001b[0mt2\u001b[0m\u001b[0;34m)\u001b[0m\u001b[0;34m\u001b[0m\u001b[0m\n\u001b[0m",
      "\u001b[0;32m/Users/lingxiangyu/anaconda/lib/python2.7/site-packages/pandas/core/frame.pyc\u001b[0m in \u001b[0;36m__init__\u001b[0;34m(self, data, index, columns, dtype, copy)\u001b[0m\n\u001b[1;32m    301\u001b[0m                                          copy=False)\n\u001b[1;32m    302\u001b[0m             \u001b[0;32melse\u001b[0m\u001b[0;34m:\u001b[0m\u001b[0;34m\u001b[0m\u001b[0m\n\u001b[0;32m--> 303\u001b[0;31m                 \u001b[0;32mraise\u001b[0m \u001b[0mPandasError\u001b[0m\u001b[0;34m(\u001b[0m\u001b[0;34m'DataFrame constructor not properly called!'\u001b[0m\u001b[0;34m)\u001b[0m\u001b[0;34m\u001b[0m\u001b[0m\n\u001b[0m\u001b[1;32m    304\u001b[0m \u001b[0;34m\u001b[0m\u001b[0m\n\u001b[1;32m    305\u001b[0m         \u001b[0mNDFrame\u001b[0m\u001b[0;34m.\u001b[0m\u001b[0m__init__\u001b[0m\u001b[0;34m(\u001b[0m\u001b[0mself\u001b[0m\u001b[0;34m,\u001b[0m \u001b[0mmgr\u001b[0m\u001b[0;34m,\u001b[0m \u001b[0mfastpath\u001b[0m\u001b[0;34m=\u001b[0m\u001b[0mTrue\u001b[0m\u001b[0;34m)\u001b[0m\u001b[0;34m\u001b[0m\u001b[0m\n",
      "\u001b[0;31mPandasError\u001b[0m: DataFrame constructor not properly called!"
     ]
    }
   ],
   "source": [
    "pd.DataFrame(t2)"
   ]
  },
  {
   "cell_type": "code",
   "execution_count": 66,
   "metadata": {
    "collapsed": true
   },
   "outputs": [],
   "source": [
    "t3 = t2.to_pandas()"
   ]
  },
  {
   "cell_type": "code",
   "execution_count": 67,
   "metadata": {
    "collapsed": true
   },
   "outputs": [],
   "source": [
    "t4 = t3.groupby(['Date'])['Close'].mean()"
   ]
  },
  {
   "cell_type": "code",
   "execution_count": 68,
   "metadata": {
    "collapsed": false
   },
   "outputs": [
    {
     "data": {
      "text/plain": [
       "Date\n",
       "09/10/97    1085.632099\n",
       "Name: Close, dtype: float64"
      ]
     },
     "execution_count": 68,
     "metadata": {},
     "output_type": "execute_result"
    }
   ],
   "source": [
    "t4"
   ]
  },
  {
   "cell_type": "code",
   "execution_count": 76,
   "metadata": {
    "collapsed": false
   },
   "outputs": [
    {
     "data": {
      "text/plain": [
       "True"
      ]
     },
     "execution_count": 76,
     "metadata": {},
     "output_type": "execute_result"
    }
   ],
   "source": [
    "np.any(t0[:]=='09/10/97')\n"
   ]
  },
  {
   "cell_type": "code",
   "execution_count": 82,
   "metadata": {
    "collapsed": false
   },
   "outputs": [
    {
     "data": {
      "text/html": [
       "<div>\n",
       "<table border=\"1\" class=\"dataframe\">\n",
       "  <thead>\n",
       "    <tr style=\"text-align: right;\">\n",
       "      <th></th>\n",
       "      <th>Date</th>\n",
       "      <th>Time</th>\n",
       "      <th>Open</th>\n",
       "      <th>High</th>\n",
       "      <th>Low</th>\n",
       "      <th>Close</th>\n",
       "      <th>Volume</th>\n",
       "    </tr>\n",
       "  </thead>\n",
       "  <tbody>\n",
       "    <tr>\n",
       "      <th>0</th>\n",
       "      <td>09/10/97</td>\n",
       "      <td>08:31</td>\n",
       "      <td>1089.00</td>\n",
       "      <td>1089.25</td>\n",
       "      <td>1089.00</td>\n",
       "      <td>1089.25</td>\n",
       "      <td>0</td>\n",
       "    </tr>\n",
       "    <tr>\n",
       "      <th>1</th>\n",
       "      <td>09/10/97</td>\n",
       "      <td>08:32</td>\n",
       "      <td>1089.00</td>\n",
       "      <td>1089.00</td>\n",
       "      <td>1088.75</td>\n",
       "      <td>1089.00</td>\n",
       "      <td>0</td>\n",
       "    </tr>\n",
       "    <tr>\n",
       "      <th>2</th>\n",
       "      <td>09/10/97</td>\n",
       "      <td>08:33</td>\n",
       "      <td>1088.75</td>\n",
       "      <td>1089.00</td>\n",
       "      <td>1088.50</td>\n",
       "      <td>1088.75</td>\n",
       "      <td>0</td>\n",
       "    </tr>\n",
       "    <tr>\n",
       "      <th>3</th>\n",
       "      <td>09/10/97</td>\n",
       "      <td>08:34</td>\n",
       "      <td>1089.00</td>\n",
       "      <td>1089.50</td>\n",
       "      <td>1089.00</td>\n",
       "      <td>1089.25</td>\n",
       "      <td>0</td>\n",
       "    </tr>\n",
       "    <tr>\n",
       "      <th>4</th>\n",
       "      <td>09/10/97</td>\n",
       "      <td>08:35</td>\n",
       "      <td>1089.25</td>\n",
       "      <td>1089.25</td>\n",
       "      <td>1088.50</td>\n",
       "      <td>1088.50</td>\n",
       "      <td>0</td>\n",
       "    </tr>\n",
       "    <tr>\n",
       "      <th>5</th>\n",
       "      <td>09/10/97</td>\n",
       "      <td>08:36</td>\n",
       "      <td>1088.25</td>\n",
       "      <td>1088.50</td>\n",
       "      <td>1087.75</td>\n",
       "      <td>1087.75</td>\n",
       "      <td>0</td>\n",
       "    </tr>\n",
       "    <tr>\n",
       "      <th>6</th>\n",
       "      <td>09/10/97</td>\n",
       "      <td>08:37</td>\n",
       "      <td>1088.00</td>\n",
       "      <td>1088.25</td>\n",
       "      <td>1088.00</td>\n",
       "      <td>1088.25</td>\n",
       "      <td>0</td>\n",
       "    </tr>\n",
       "    <tr>\n",
       "      <th>7</th>\n",
       "      <td>09/10/97</td>\n",
       "      <td>08:38</td>\n",
       "      <td>1088.25</td>\n",
       "      <td>1088.25</td>\n",
       "      <td>1087.50</td>\n",
       "      <td>1087.75</td>\n",
       "      <td>0</td>\n",
       "    </tr>\n",
       "    <tr>\n",
       "      <th>8</th>\n",
       "      <td>09/10/97</td>\n",
       "      <td>08:39</td>\n",
       "      <td>1087.50</td>\n",
       "      <td>1088.75</td>\n",
       "      <td>1087.50</td>\n",
       "      <td>1088.75</td>\n",
       "      <td>0</td>\n",
       "    </tr>\n",
       "    <tr>\n",
       "      <th>9</th>\n",
       "      <td>09/10/97</td>\n",
       "      <td>08:40</td>\n",
       "      <td>1088.50</td>\n",
       "      <td>1088.50</td>\n",
       "      <td>1087.50</td>\n",
       "      <td>1087.50</td>\n",
       "      <td>0</td>\n",
       "    </tr>\n",
       "    <tr>\n",
       "      <th>10</th>\n",
       "      <td>09/10/97</td>\n",
       "      <td>08:41</td>\n",
       "      <td>1087.50</td>\n",
       "      <td>1088.50</td>\n",
       "      <td>1087.50</td>\n",
       "      <td>1088.50</td>\n",
       "      <td>0</td>\n",
       "    </tr>\n",
       "    <tr>\n",
       "      <th>11</th>\n",
       "      <td>09/10/97</td>\n",
       "      <td>08:42</td>\n",
       "      <td>1088.75</td>\n",
       "      <td>1089.00</td>\n",
       "      <td>1088.25</td>\n",
       "      <td>1089.00</td>\n",
       "      <td>0</td>\n",
       "    </tr>\n",
       "    <tr>\n",
       "      <th>12</th>\n",
       "      <td>09/10/97</td>\n",
       "      <td>08:43</td>\n",
       "      <td>1088.75</td>\n",
       "      <td>1089.25</td>\n",
       "      <td>1088.50</td>\n",
       "      <td>1089.00</td>\n",
       "      <td>0</td>\n",
       "    </tr>\n",
       "    <tr>\n",
       "      <th>13</th>\n",
       "      <td>09/10/97</td>\n",
       "      <td>08:44</td>\n",
       "      <td>1089.00</td>\n",
       "      <td>1089.75</td>\n",
       "      <td>1089.00</td>\n",
       "      <td>1089.75</td>\n",
       "      <td>0</td>\n",
       "    </tr>\n",
       "    <tr>\n",
       "      <th>14</th>\n",
       "      <td>09/10/97</td>\n",
       "      <td>08:45</td>\n",
       "      <td>1089.75</td>\n",
       "      <td>1090.00</td>\n",
       "      <td>1089.50</td>\n",
       "      <td>1089.75</td>\n",
       "      <td>0</td>\n",
       "    </tr>\n",
       "    <tr>\n",
       "      <th>15</th>\n",
       "      <td>09/10/97</td>\n",
       "      <td>08:46</td>\n",
       "      <td>1089.75</td>\n",
       "      <td>1090.00</td>\n",
       "      <td>1089.75</td>\n",
       "      <td>1090.00</td>\n",
       "      <td>0</td>\n",
       "    </tr>\n",
       "    <tr>\n",
       "      <th>16</th>\n",
       "      <td>09/10/97</td>\n",
       "      <td>08:47</td>\n",
       "      <td>1090.25</td>\n",
       "      <td>1090.75</td>\n",
       "      <td>1090.00</td>\n",
       "      <td>1090.75</td>\n",
       "      <td>0</td>\n",
       "    </tr>\n",
       "    <tr>\n",
       "      <th>17</th>\n",
       "      <td>09/10/97</td>\n",
       "      <td>08:48</td>\n",
       "      <td>1091.25</td>\n",
       "      <td>1091.50</td>\n",
       "      <td>1090.50</td>\n",
       "      <td>1090.50</td>\n",
       "      <td>0</td>\n",
       "    </tr>\n",
       "    <tr>\n",
       "      <th>18</th>\n",
       "      <td>09/10/97</td>\n",
       "      <td>08:49</td>\n",
       "      <td>1090.25</td>\n",
       "      <td>1090.75</td>\n",
       "      <td>1090.00</td>\n",
       "      <td>1090.25</td>\n",
       "      <td>0</td>\n",
       "    </tr>\n",
       "    <tr>\n",
       "      <th>19</th>\n",
       "      <td>09/10/97</td>\n",
       "      <td>08:50</td>\n",
       "      <td>1090.25</td>\n",
       "      <td>1090.25</td>\n",
       "      <td>1090.00</td>\n",
       "      <td>1090.00</td>\n",
       "      <td>0</td>\n",
       "    </tr>\n",
       "    <tr>\n",
       "      <th>20</th>\n",
       "      <td>09/10/97</td>\n",
       "      <td>08:51</td>\n",
       "      <td>1090.00</td>\n",
       "      <td>1090.50</td>\n",
       "      <td>1090.00</td>\n",
       "      <td>1090.50</td>\n",
       "      <td>0</td>\n",
       "    </tr>\n",
       "    <tr>\n",
       "      <th>21</th>\n",
       "      <td>09/10/97</td>\n",
       "      <td>08:52</td>\n",
       "      <td>1090.75</td>\n",
       "      <td>1091.50</td>\n",
       "      <td>1090.75</td>\n",
       "      <td>1091.50</td>\n",
       "      <td>0</td>\n",
       "    </tr>\n",
       "    <tr>\n",
       "      <th>22</th>\n",
       "      <td>09/10/97</td>\n",
       "      <td>08:53</td>\n",
       "      <td>1091.25</td>\n",
       "      <td>1091.50</td>\n",
       "      <td>1090.75</td>\n",
       "      <td>1090.75</td>\n",
       "      <td>0</td>\n",
       "    </tr>\n",
       "    <tr>\n",
       "      <th>23</th>\n",
       "      <td>09/10/97</td>\n",
       "      <td>08:54</td>\n",
       "      <td>1091.00</td>\n",
       "      <td>1091.00</td>\n",
       "      <td>1090.50</td>\n",
       "      <td>1090.75</td>\n",
       "      <td>0</td>\n",
       "    </tr>\n",
       "    <tr>\n",
       "      <th>24</th>\n",
       "      <td>09/10/97</td>\n",
       "      <td>08:55</td>\n",
       "      <td>1091.00</td>\n",
       "      <td>1091.25</td>\n",
       "      <td>1090.50</td>\n",
       "      <td>1090.75</td>\n",
       "      <td>0</td>\n",
       "    </tr>\n",
       "    <tr>\n",
       "      <th>25</th>\n",
       "      <td>09/10/97</td>\n",
       "      <td>08:56</td>\n",
       "      <td>1090.75</td>\n",
       "      <td>1091.00</td>\n",
       "      <td>1090.00</td>\n",
       "      <td>1090.25</td>\n",
       "      <td>0</td>\n",
       "    </tr>\n",
       "    <tr>\n",
       "      <th>26</th>\n",
       "      <td>09/10/97</td>\n",
       "      <td>08:57</td>\n",
       "      <td>1090.25</td>\n",
       "      <td>1090.50</td>\n",
       "      <td>1090.25</td>\n",
       "      <td>1090.50</td>\n",
       "      <td>0</td>\n",
       "    </tr>\n",
       "    <tr>\n",
       "      <th>27</th>\n",
       "      <td>09/10/97</td>\n",
       "      <td>08:58</td>\n",
       "      <td>1090.50</td>\n",
       "      <td>1090.50</td>\n",
       "      <td>1090.50</td>\n",
       "      <td>1090.50</td>\n",
       "      <td>0</td>\n",
       "    </tr>\n",
       "    <tr>\n",
       "      <th>28</th>\n",
       "      <td>09/10/97</td>\n",
       "      <td>08:59</td>\n",
       "      <td>1090.75</td>\n",
       "      <td>1090.75</td>\n",
       "      <td>1090.50</td>\n",
       "      <td>1090.75</td>\n",
       "      <td>0</td>\n",
       "    </tr>\n",
       "    <tr>\n",
       "      <th>29</th>\n",
       "      <td>09/10/97</td>\n",
       "      <td>09:00</td>\n",
       "      <td>1090.75</td>\n",
       "      <td>1090.75</td>\n",
       "      <td>1090.25</td>\n",
       "      <td>1090.50</td>\n",
       "      <td>0</td>\n",
       "    </tr>\n",
       "    <tr>\n",
       "      <th>...</th>\n",
       "      <td>...</td>\n",
       "      <td>...</td>\n",
       "      <td>...</td>\n",
       "      <td>...</td>\n",
       "      <td>...</td>\n",
       "      <td>...</td>\n",
       "      <td>...</td>\n",
       "    </tr>\n",
       "    <tr>\n",
       "      <th>375</th>\n",
       "      <td>09/11/97</td>\n",
       "      <td>14:46</td>\n",
       "      <td>1073.00</td>\n",
       "      <td>1073.00</td>\n",
       "      <td>1073.00</td>\n",
       "      <td>1073.00</td>\n",
       "      <td>0</td>\n",
       "    </tr>\n",
       "    <tr>\n",
       "      <th>376</th>\n",
       "      <td>09/11/97</td>\n",
       "      <td>14:47</td>\n",
       "      <td>1073.00</td>\n",
       "      <td>1073.25</td>\n",
       "      <td>1073.00</td>\n",
       "      <td>1073.25</td>\n",
       "      <td>0</td>\n",
       "    </tr>\n",
       "    <tr>\n",
       "      <th>377</th>\n",
       "      <td>09/11/97</td>\n",
       "      <td>14:48</td>\n",
       "      <td>1073.50</td>\n",
       "      <td>1073.75</td>\n",
       "      <td>1073.50</td>\n",
       "      <td>1073.75</td>\n",
       "      <td>0</td>\n",
       "    </tr>\n",
       "    <tr>\n",
       "      <th>378</th>\n",
       "      <td>09/11/97</td>\n",
       "      <td>14:49</td>\n",
       "      <td>1073.50</td>\n",
       "      <td>1073.75</td>\n",
       "      <td>1073.50</td>\n",
       "      <td>1073.75</td>\n",
       "      <td>0</td>\n",
       "    </tr>\n",
       "    <tr>\n",
       "      <th>379</th>\n",
       "      <td>09/11/97</td>\n",
       "      <td>14:50</td>\n",
       "      <td>1074.00</td>\n",
       "      <td>1074.25</td>\n",
       "      <td>1074.00</td>\n",
       "      <td>1074.00</td>\n",
       "      <td>0</td>\n",
       "    </tr>\n",
       "    <tr>\n",
       "      <th>380</th>\n",
       "      <td>09/11/97</td>\n",
       "      <td>14:51</td>\n",
       "      <td>1074.00</td>\n",
       "      <td>1074.75</td>\n",
       "      <td>1074.00</td>\n",
       "      <td>1074.50</td>\n",
       "      <td>0</td>\n",
       "    </tr>\n",
       "    <tr>\n",
       "      <th>381</th>\n",
       "      <td>09/11/97</td>\n",
       "      <td>14:52</td>\n",
       "      <td>1074.25</td>\n",
       "      <td>1074.25</td>\n",
       "      <td>1073.25</td>\n",
       "      <td>1073.25</td>\n",
       "      <td>0</td>\n",
       "    </tr>\n",
       "    <tr>\n",
       "      <th>382</th>\n",
       "      <td>09/11/97</td>\n",
       "      <td>14:53</td>\n",
       "      <td>1073.50</td>\n",
       "      <td>1073.50</td>\n",
       "      <td>1073.25</td>\n",
       "      <td>1073.25</td>\n",
       "      <td>0</td>\n",
       "    </tr>\n",
       "    <tr>\n",
       "      <th>383</th>\n",
       "      <td>09/11/97</td>\n",
       "      <td>14:54</td>\n",
       "      <td>1073.25</td>\n",
       "      <td>1073.25</td>\n",
       "      <td>1072.25</td>\n",
       "      <td>1072.25</td>\n",
       "      <td>0</td>\n",
       "    </tr>\n",
       "    <tr>\n",
       "      <th>384</th>\n",
       "      <td>09/11/97</td>\n",
       "      <td>14:55</td>\n",
       "      <td>1072.00</td>\n",
       "      <td>1072.00</td>\n",
       "      <td>1072.00</td>\n",
       "      <td>1072.00</td>\n",
       "      <td>0</td>\n",
       "    </tr>\n",
       "    <tr>\n",
       "      <th>385</th>\n",
       "      <td>09/11/97</td>\n",
       "      <td>14:56</td>\n",
       "      <td>1071.75</td>\n",
       "      <td>1071.75</td>\n",
       "      <td>1071.75</td>\n",
       "      <td>1071.75</td>\n",
       "      <td>0</td>\n",
       "    </tr>\n",
       "    <tr>\n",
       "      <th>386</th>\n",
       "      <td>09/11/97</td>\n",
       "      <td>14:57</td>\n",
       "      <td>1071.75</td>\n",
       "      <td>1071.75</td>\n",
       "      <td>1070.75</td>\n",
       "      <td>1070.75</td>\n",
       "      <td>0</td>\n",
       "    </tr>\n",
       "    <tr>\n",
       "      <th>387</th>\n",
       "      <td>09/11/97</td>\n",
       "      <td>14:58</td>\n",
       "      <td>1069.75</td>\n",
       "      <td>1070.50</td>\n",
       "      <td>1069.75</td>\n",
       "      <td>1070.50</td>\n",
       "      <td>0</td>\n",
       "    </tr>\n",
       "    <tr>\n",
       "      <th>388</th>\n",
       "      <td>09/11/97</td>\n",
       "      <td>14:59</td>\n",
       "      <td>1070.50</td>\n",
       "      <td>1070.50</td>\n",
       "      <td>1070.50</td>\n",
       "      <td>1070.50</td>\n",
       "      <td>0</td>\n",
       "    </tr>\n",
       "    <tr>\n",
       "      <th>389</th>\n",
       "      <td>09/11/97</td>\n",
       "      <td>15:00</td>\n",
       "      <td>1070.25</td>\n",
       "      <td>1070.50</td>\n",
       "      <td>1069.75</td>\n",
       "      <td>1070.50</td>\n",
       "      <td>0</td>\n",
       "    </tr>\n",
       "    <tr>\n",
       "      <th>390</th>\n",
       "      <td>09/11/97</td>\n",
       "      <td>15:01</td>\n",
       "      <td>1070.50</td>\n",
       "      <td>1070.50</td>\n",
       "      <td>1069.75</td>\n",
       "      <td>1069.75</td>\n",
       "      <td>0</td>\n",
       "    </tr>\n",
       "    <tr>\n",
       "      <th>391</th>\n",
       "      <td>09/11/97</td>\n",
       "      <td>15:02</td>\n",
       "      <td>1069.75</td>\n",
       "      <td>1069.75</td>\n",
       "      <td>1069.75</td>\n",
       "      <td>1069.75</td>\n",
       "      <td>0</td>\n",
       "    </tr>\n",
       "    <tr>\n",
       "      <th>392</th>\n",
       "      <td>09/11/97</td>\n",
       "      <td>15:03</td>\n",
       "      <td>1069.75</td>\n",
       "      <td>1069.75</td>\n",
       "      <td>1069.75</td>\n",
       "      <td>1069.75</td>\n",
       "      <td>0</td>\n",
       "    </tr>\n",
       "    <tr>\n",
       "      <th>393</th>\n",
       "      <td>09/11/97</td>\n",
       "      <td>15:04</td>\n",
       "      <td>1069.50</td>\n",
       "      <td>1069.50</td>\n",
       "      <td>1069.50</td>\n",
       "      <td>1069.50</td>\n",
       "      <td>0</td>\n",
       "    </tr>\n",
       "    <tr>\n",
       "      <th>394</th>\n",
       "      <td>09/11/97</td>\n",
       "      <td>15:05</td>\n",
       "      <td>1069.25</td>\n",
       "      <td>1069.25</td>\n",
       "      <td>1068.75</td>\n",
       "      <td>1068.75</td>\n",
       "      <td>0</td>\n",
       "    </tr>\n",
       "    <tr>\n",
       "      <th>395</th>\n",
       "      <td>09/11/97</td>\n",
       "      <td>15:06</td>\n",
       "      <td>1068.75</td>\n",
       "      <td>1068.75</td>\n",
       "      <td>1068.75</td>\n",
       "      <td>1068.75</td>\n",
       "      <td>0</td>\n",
       "    </tr>\n",
       "    <tr>\n",
       "      <th>396</th>\n",
       "      <td>09/11/97</td>\n",
       "      <td>15:07</td>\n",
       "      <td>1068.75</td>\n",
       "      <td>1068.75</td>\n",
       "      <td>1068.75</td>\n",
       "      <td>1068.75</td>\n",
       "      <td>0</td>\n",
       "    </tr>\n",
       "    <tr>\n",
       "      <th>397</th>\n",
       "      <td>09/11/97</td>\n",
       "      <td>15:08</td>\n",
       "      <td>1069.50</td>\n",
       "      <td>1069.50</td>\n",
       "      <td>1069.50</td>\n",
       "      <td>1069.50</td>\n",
       "      <td>0</td>\n",
       "    </tr>\n",
       "    <tr>\n",
       "      <th>398</th>\n",
       "      <td>09/11/97</td>\n",
       "      <td>15:09</td>\n",
       "      <td>1069.25</td>\n",
       "      <td>1070.25</td>\n",
       "      <td>1068.75</td>\n",
       "      <td>1068.75</td>\n",
       "      <td>0</td>\n",
       "    </tr>\n",
       "    <tr>\n",
       "      <th>399</th>\n",
       "      <td>09/11/97</td>\n",
       "      <td>15:10</td>\n",
       "      <td>1068.75</td>\n",
       "      <td>1068.75</td>\n",
       "      <td>1068.75</td>\n",
       "      <td>1068.75</td>\n",
       "      <td>0</td>\n",
       "    </tr>\n",
       "    <tr>\n",
       "      <th>400</th>\n",
       "      <td>09/11/97</td>\n",
       "      <td>15:11</td>\n",
       "      <td>1068.50</td>\n",
       "      <td>1068.50</td>\n",
       "      <td>1067.50</td>\n",
       "      <td>1067.75</td>\n",
       "      <td>0</td>\n",
       "    </tr>\n",
       "    <tr>\n",
       "      <th>401</th>\n",
       "      <td>09/11/97</td>\n",
       "      <td>15:12</td>\n",
       "      <td>1068.00</td>\n",
       "      <td>1069.50</td>\n",
       "      <td>1068.00</td>\n",
       "      <td>1069.25</td>\n",
       "      <td>0</td>\n",
       "    </tr>\n",
       "    <tr>\n",
       "      <th>402</th>\n",
       "      <td>09/11/97</td>\n",
       "      <td>15:13</td>\n",
       "      <td>1069.00</td>\n",
       "      <td>1069.00</td>\n",
       "      <td>1068.50</td>\n",
       "      <td>1068.50</td>\n",
       "      <td>0</td>\n",
       "    </tr>\n",
       "    <tr>\n",
       "      <th>403</th>\n",
       "      <td>09/11/97</td>\n",
       "      <td>15:14</td>\n",
       "      <td>1068.75</td>\n",
       "      <td>1068.75</td>\n",
       "      <td>1068.75</td>\n",
       "      <td>1068.75</td>\n",
       "      <td>0</td>\n",
       "    </tr>\n",
       "    <tr>\n",
       "      <th>404</th>\n",
       "      <td>09/11/97</td>\n",
       "      <td>15:15</td>\n",
       "      <td>1069.00</td>\n",
       "      <td>1069.00</td>\n",
       "      <td>1067.75</td>\n",
       "      <td>1067.75</td>\n",
       "      <td>0</td>\n",
       "    </tr>\n",
       "  </tbody>\n",
       "</table>\n",
       "<p>810 rows × 7 columns</p>\n",
       "</div>"
      ],
      "text/plain": [
       "         Date   Time     Open     High      Low    Close  Volume\n",
       "0    09/10/97  08:31  1089.00  1089.25  1089.00  1089.25       0\n",
       "1    09/10/97  08:32  1089.00  1089.00  1088.75  1089.00       0\n",
       "2    09/10/97  08:33  1088.75  1089.00  1088.50  1088.75       0\n",
       "3    09/10/97  08:34  1089.00  1089.50  1089.00  1089.25       0\n",
       "4    09/10/97  08:35  1089.25  1089.25  1088.50  1088.50       0\n",
       "5    09/10/97  08:36  1088.25  1088.50  1087.75  1087.75       0\n",
       "6    09/10/97  08:37  1088.00  1088.25  1088.00  1088.25       0\n",
       "7    09/10/97  08:38  1088.25  1088.25  1087.50  1087.75       0\n",
       "8    09/10/97  08:39  1087.50  1088.75  1087.50  1088.75       0\n",
       "9    09/10/97  08:40  1088.50  1088.50  1087.50  1087.50       0\n",
       "10   09/10/97  08:41  1087.50  1088.50  1087.50  1088.50       0\n",
       "11   09/10/97  08:42  1088.75  1089.00  1088.25  1089.00       0\n",
       "12   09/10/97  08:43  1088.75  1089.25  1088.50  1089.00       0\n",
       "13   09/10/97  08:44  1089.00  1089.75  1089.00  1089.75       0\n",
       "14   09/10/97  08:45  1089.75  1090.00  1089.50  1089.75       0\n",
       "15   09/10/97  08:46  1089.75  1090.00  1089.75  1090.00       0\n",
       "16   09/10/97  08:47  1090.25  1090.75  1090.00  1090.75       0\n",
       "17   09/10/97  08:48  1091.25  1091.50  1090.50  1090.50       0\n",
       "18   09/10/97  08:49  1090.25  1090.75  1090.00  1090.25       0\n",
       "19   09/10/97  08:50  1090.25  1090.25  1090.00  1090.00       0\n",
       "20   09/10/97  08:51  1090.00  1090.50  1090.00  1090.50       0\n",
       "21   09/10/97  08:52  1090.75  1091.50  1090.75  1091.50       0\n",
       "22   09/10/97  08:53  1091.25  1091.50  1090.75  1090.75       0\n",
       "23   09/10/97  08:54  1091.00  1091.00  1090.50  1090.75       0\n",
       "24   09/10/97  08:55  1091.00  1091.25  1090.50  1090.75       0\n",
       "25   09/10/97  08:56  1090.75  1091.00  1090.00  1090.25       0\n",
       "26   09/10/97  08:57  1090.25  1090.50  1090.25  1090.50       0\n",
       "27   09/10/97  08:58  1090.50  1090.50  1090.50  1090.50       0\n",
       "28   09/10/97  08:59  1090.75  1090.75  1090.50  1090.75       0\n",
       "29   09/10/97  09:00  1090.75  1090.75  1090.25  1090.50       0\n",
       "..        ...    ...      ...      ...      ...      ...     ...\n",
       "375  09/11/97  14:46  1073.00  1073.00  1073.00  1073.00       0\n",
       "376  09/11/97  14:47  1073.00  1073.25  1073.00  1073.25       0\n",
       "377  09/11/97  14:48  1073.50  1073.75  1073.50  1073.75       0\n",
       "378  09/11/97  14:49  1073.50  1073.75  1073.50  1073.75       0\n",
       "379  09/11/97  14:50  1074.00  1074.25  1074.00  1074.00       0\n",
       "380  09/11/97  14:51  1074.00  1074.75  1074.00  1074.50       0\n",
       "381  09/11/97  14:52  1074.25  1074.25  1073.25  1073.25       0\n",
       "382  09/11/97  14:53  1073.50  1073.50  1073.25  1073.25       0\n",
       "383  09/11/97  14:54  1073.25  1073.25  1072.25  1072.25       0\n",
       "384  09/11/97  14:55  1072.00  1072.00  1072.00  1072.00       0\n",
       "385  09/11/97  14:56  1071.75  1071.75  1071.75  1071.75       0\n",
       "386  09/11/97  14:57  1071.75  1071.75  1070.75  1070.75       0\n",
       "387  09/11/97  14:58  1069.75  1070.50  1069.75  1070.50       0\n",
       "388  09/11/97  14:59  1070.50  1070.50  1070.50  1070.50       0\n",
       "389  09/11/97  15:00  1070.25  1070.50  1069.75  1070.50       0\n",
       "390  09/11/97  15:01  1070.50  1070.50  1069.75  1069.75       0\n",
       "391  09/11/97  15:02  1069.75  1069.75  1069.75  1069.75       0\n",
       "392  09/11/97  15:03  1069.75  1069.75  1069.75  1069.75       0\n",
       "393  09/11/97  15:04  1069.50  1069.50  1069.50  1069.50       0\n",
       "394  09/11/97  15:05  1069.25  1069.25  1068.75  1068.75       0\n",
       "395  09/11/97  15:06  1068.75  1068.75  1068.75  1068.75       0\n",
       "396  09/11/97  15:07  1068.75  1068.75  1068.75  1068.75       0\n",
       "397  09/11/97  15:08  1069.50  1069.50  1069.50  1069.50       0\n",
       "398  09/11/97  15:09  1069.25  1070.25  1068.75  1068.75       0\n",
       "399  09/11/97  15:10  1068.75  1068.75  1068.75  1068.75       0\n",
       "400  09/11/97  15:11  1068.50  1068.50  1067.50  1067.75       0\n",
       "401  09/11/97  15:12  1068.00  1069.50  1068.00  1069.25       0\n",
       "402  09/11/97  15:13  1069.00  1069.00  1068.50  1068.50       0\n",
       "403  09/11/97  15:14  1068.75  1068.75  1068.75  1068.75       0\n",
       "404  09/11/97  15:15  1069.00  1069.00  1067.75  1067.75       0\n",
       "\n",
       "[810 rows x 7 columns]"
      ]
     },
     "execution_count": 82,
     "metadata": {},
     "output_type": "execute_result"
    }
   ],
   "source": [
    "t5 = data[t0[:]=='09/11/97']\n",
    "t6 = t2.to_pandas()\n",
    "t5 = t5.to_pandas()\n",
    "t_ = [t6, t5]\n",
    "t7 = pd.concat(t_)\n",
    "t7"
   ]
  },
  {
   "cell_type": "code",
   "execution_count": 87,
   "metadata": {
    "collapsed": false
   },
   "outputs": [
    {
     "data": {
      "text/plain": [
       "Date\n",
       "09/10/97    1085.632099\n",
       "09/11/97    1068.723457\n",
       "Name: Close, dtype: float64"
      ]
     },
     "execution_count": 87,
     "metadata": {},
     "output_type": "execute_result"
    }
   ],
   "source": [
    "t7.groupby(['Date'])['Close'].mean()"
   ]
  },
  {
   "cell_type": "code",
   "execution_count": 89,
   "metadata": {
    "collapsed": false
   },
   "outputs": [
    {
     "data": {
      "text/plain": [
       "Date\n",
       "09/10/97    10.16846\n",
       "09/11/97    11.04524\n",
       "Name: Close, dtype: float64"
      ]
     },
     "execution_count": 89,
     "metadata": {},
     "output_type": "execute_result"
    }
   ],
   "source": [
    "t7.groupby(['Date'])['Close'].var()"
   ]
  },
  {
   "cell_type": "code",
   "execution_count": null,
   "metadata": {
    "collapsed": true
   },
   "outputs": [],
   "source": []
  }
 ],
 "metadata": {
  "anaconda-cloud": {},
  "kernelspec": {
   "display_name": "Python [default]",
   "language": "python",
   "name": "python2"
  },
  "language_info": {
   "codemirror_mode": {
    "name": "ipython",
    "version": 2
   },
   "file_extension": ".py",
   "mimetype": "text/x-python",
   "name": "python",
   "nbconvert_exporter": "python",
   "pygments_lexer": "ipython2",
   "version": "2.7.12"
  }
 },
 "nbformat": 4,
 "nbformat_minor": 1
}
