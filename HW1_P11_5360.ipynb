{
 "cells": [
  {
   "cell_type": "code",
   "execution_count": 1,
   "metadata": {
    "collapsed": false
   },
   "outputs": [
    {
     "name": "stdout",
     "output_type": "stream",
     "text": [
      "  Date    Time   Open    High    Low    Close  Volume\n",
      "-------- ----- ------- ------- ------- ------- ------\n",
      "09/10/97 08:31  1089.0 1089.25  1089.0 1089.25      0\n",
      "09/10/97 08:32  1089.0  1089.0 1088.75  1089.0      0\n",
      "09/10/97 08:33 1088.75  1089.0  1088.5 1088.75      0\n",
      "09/10/97 08:34  1089.0  1089.5  1089.0 1089.25      0\n",
      "09/10/97 08:35 1089.25 1089.25  1088.5  1088.5      0\n",
      "09/10/97 08:36 1088.25  1088.5 1087.75 1087.75      0\n",
      "09/10/97 08:37  1088.0 1088.25  1088.0 1088.25      0\n",
      "09/10/97 08:38 1088.25 1088.25  1087.5 1087.75      0\n",
      "09/10/97 08:39  1087.5 1088.75  1087.5 1088.75      0\n",
      "09/10/97 08:40  1088.5  1088.5  1087.5  1087.5      0\n",
      "     ...   ...     ...     ...     ...     ...    ...\n",
      "01/27/17 15:05  2289.5 2289.75 2289.25 2289.75   4163\n",
      "01/27/17 15:06 2289.75 2289.75  2289.5  2289.5    529\n",
      "01/27/17 15:07 2289.75 2289.75  2289.5  2289.5    854\n",
      "01/27/17 15:08 2289.75 2289.75  2289.5  2289.5    986\n",
      "01/27/17 15:09 2289.75 2289.75  2289.5 2289.75   1173\n",
      "01/27/17 15:10  2289.5 2289.75 2289.25  2289.5   2140\n",
      "01/27/17 15:11 2289.25  2289.5 2289.25 2289.25    668\n",
      "01/27/17 15:12 2289.25  2289.5 2289.25  2289.5    611\n",
      "01/27/17 15:13  2289.5  2289.5 2289.25 2289.25    839\n",
      "01/27/17 15:14  2289.5  2289.5  2289.0  2289.0   1662\n",
      "01/27/17 15:15  2289.0  2289.5 2288.75 2288.75   9435\n",
      "Length = 1981244 rows\n"
     ]
    }
   ],
   "source": [
    "from astropy.io import ascii\n",
    "data = ascii.read(\"ES.asc\")\n",
    "print(data)"
   ]
  },
  {
   "cell_type": "code",
   "execution_count": 128,
   "metadata": {
    "collapsed": false
   },
   "outputs": [
    {
     "data": {
      "text/plain": [
       "pandas.core.frame.DataFrame"
      ]
     },
     "execution_count": 128,
     "metadata": {},
     "output_type": "execute_result"
    }
   ],
   "source": [
    "data = data.to_pandas()"
   ]
  },
  {
   "cell_type": "code",
   "execution_count": 20,
   "metadata": {
    "collapsed": false
   },
   "outputs": [],
   "source": [
    "import numpy as np\n",
    "import pandas as pd"
   ]
  },
  {
   "cell_type": "code",
   "execution_count": 126,
   "metadata": {
    "collapsed": false,
    "scrolled": true
   },
   "outputs": [
    {
     "name": "stderr",
     "output_type": "stream",
     "text": [
      "/Users/lingxiangyu/anaconda/lib/python2.7/site-packages/ipykernel/__main__.py:3: SettingWithCopyWarning: \n",
      "A value is trying to be set on a copy of a slice from a DataFrame.\n",
      "Try using .loc[row_indexer,col_indexer] = value instead\n",
      "\n",
      "See the caveats in the documentation: http://pandas.pydata.org/pandas-docs/stable/indexing.html#indexing-view-versus-copy\n",
      "  app.launch_new_instance()\n"
     ]
    }
   ],
   "source": [
    "from __future__ import division\n",
    "t1 = data.head(n=10)\n",
    "t1[\"diff3\"]=t1.groupby(['Date'])['Close'].diff(3)\n",
    "for i in range(0 , len(t1)-3):\n",
    "    t1.loc[i+3,'diff3'] = t1.iloc[i+3]['diff3']/t1.iloc[i]['Close']\n",
    "    "
   ]
  },
  {
   "cell_type": "code",
   "execution_count": 121,
   "metadata": {
    "collapsed": false
   },
   "outputs": [
    {
     "data": {
      "text/plain": [
       "-0.00091848450057405281"
      ]
     },
     "execution_count": 121,
     "metadata": {},
     "output_type": "execute_result"
    }
   ],
   "source": [
    "a = t1.iloc[2+3]['diff3']/t1.iloc[2]['Close']\n",
    "a"
   ]
  },
  {
   "cell_type": "code",
   "execution_count": 139,
   "metadata": {
    "collapsed": false
   },
   "outputs": [
    {
     "data": {
      "text/plain": [
       "0         NaN\n",
       "1         NaN\n",
       "2         NaN\n",
       "3    0.000000\n",
       "4   -0.000459\n",
       "5   -0.000918\n",
       "6   -0.000918\n",
       "7   -0.000689\n",
       "8    0.000919\n",
       "9   -0.000689\n",
       "Name: diff3, dtype: float64"
      ]
     },
     "execution_count": 139,
     "metadata": {},
     "output_type": "execute_result"
    }
   ],
   "source": [
    "t1[\"diff3\"]"
   ]
  },
  {
   "cell_type": "code",
   "execution_count": 137,
   "metadata": {
    "collapsed": false
   },
   "outputs": [
    {
     "data": {
      "text/plain": [
       "0.0006593184212526261"
      ]
     },
     "execution_count": 137,
     "metadata": {},
     "output_type": "execute_result"
    }
   ],
   "source": [
    "a = t1[\"diff3\"].std()\n",
    "a"
   ]
  },
  {
   "cell_type": "code",
   "execution_count": 278,
   "metadata": {
    "collapsed": false
   },
   "outputs": [
    {
     "data": {
      "text/html": [
       "<div>\n",
       "<table border=\"1\" class=\"dataframe\">\n",
       "  <thead>\n",
       "    <tr style=\"text-align: right;\">\n",
       "      <th></th>\n",
       "      <th>Date</th>\n",
       "      <th>Time</th>\n",
       "      <th>Open</th>\n",
       "      <th>High</th>\n",
       "      <th>Low</th>\n",
       "      <th>Close</th>\n",
       "      <th>Volume</th>\n",
       "    </tr>\n",
       "  </thead>\n",
       "  <tbody>\n",
       "    <tr>\n",
       "      <th>0</th>\n",
       "      <td>09/10/97</td>\n",
       "      <td>08:31</td>\n",
       "      <td>1089.00</td>\n",
       "      <td>1089.25</td>\n",
       "      <td>1089.00</td>\n",
       "      <td>1089.25</td>\n",
       "      <td>0</td>\n",
       "    </tr>\n",
       "    <tr>\n",
       "      <th>1</th>\n",
       "      <td>09/10/97</td>\n",
       "      <td>08:32</td>\n",
       "      <td>1089.00</td>\n",
       "      <td>1089.00</td>\n",
       "      <td>1088.75</td>\n",
       "      <td>1089.00</td>\n",
       "      <td>0</td>\n",
       "    </tr>\n",
       "    <tr>\n",
       "      <th>2</th>\n",
       "      <td>09/10/97</td>\n",
       "      <td>08:33</td>\n",
       "      <td>1088.75</td>\n",
       "      <td>1089.00</td>\n",
       "      <td>1088.50</td>\n",
       "      <td>1088.75</td>\n",
       "      <td>0</td>\n",
       "    </tr>\n",
       "    <tr>\n",
       "      <th>3</th>\n",
       "      <td>09/10/97</td>\n",
       "      <td>08:34</td>\n",
       "      <td>1089.00</td>\n",
       "      <td>1089.50</td>\n",
       "      <td>1089.00</td>\n",
       "      <td>1089.25</td>\n",
       "      <td>0</td>\n",
       "    </tr>\n",
       "    <tr>\n",
       "      <th>4</th>\n",
       "      <td>09/10/97</td>\n",
       "      <td>08:35</td>\n",
       "      <td>1089.25</td>\n",
       "      <td>1089.25</td>\n",
       "      <td>1088.50</td>\n",
       "      <td>1088.50</td>\n",
       "      <td>0</td>\n",
       "    </tr>\n",
       "    <tr>\n",
       "      <th>5</th>\n",
       "      <td>09/10/97</td>\n",
       "      <td>08:36</td>\n",
       "      <td>1088.25</td>\n",
       "      <td>1088.50</td>\n",
       "      <td>1087.75</td>\n",
       "      <td>1087.75</td>\n",
       "      <td>0</td>\n",
       "    </tr>\n",
       "    <tr>\n",
       "      <th>6</th>\n",
       "      <td>09/10/97</td>\n",
       "      <td>08:37</td>\n",
       "      <td>1088.00</td>\n",
       "      <td>1088.25</td>\n",
       "      <td>1088.00</td>\n",
       "      <td>1088.25</td>\n",
       "      <td>0</td>\n",
       "    </tr>\n",
       "    <tr>\n",
       "      <th>7</th>\n",
       "      <td>09/10/97</td>\n",
       "      <td>08:38</td>\n",
       "      <td>1088.25</td>\n",
       "      <td>1088.25</td>\n",
       "      <td>1087.50</td>\n",
       "      <td>1087.75</td>\n",
       "      <td>0</td>\n",
       "    </tr>\n",
       "    <tr>\n",
       "      <th>8</th>\n",
       "      <td>09/10/97</td>\n",
       "      <td>08:39</td>\n",
       "      <td>1087.50</td>\n",
       "      <td>1088.75</td>\n",
       "      <td>1087.50</td>\n",
       "      <td>1088.75</td>\n",
       "      <td>0</td>\n",
       "    </tr>\n",
       "    <tr>\n",
       "      <th>9</th>\n",
       "      <td>09/10/97</td>\n",
       "      <td>08:40</td>\n",
       "      <td>1088.50</td>\n",
       "      <td>1088.50</td>\n",
       "      <td>1087.50</td>\n",
       "      <td>1087.50</td>\n",
       "      <td>0</td>\n",
       "    </tr>\n",
       "    <tr>\n",
       "      <th>10</th>\n",
       "      <td>09/10/97</td>\n",
       "      <td>08:41</td>\n",
       "      <td>1087.50</td>\n",
       "      <td>1088.50</td>\n",
       "      <td>1087.50</td>\n",
       "      <td>1088.50</td>\n",
       "      <td>0</td>\n",
       "    </tr>\n",
       "    <tr>\n",
       "      <th>11</th>\n",
       "      <td>09/10/97</td>\n",
       "      <td>08:42</td>\n",
       "      <td>1088.75</td>\n",
       "      <td>1089.00</td>\n",
       "      <td>1088.25</td>\n",
       "      <td>1089.00</td>\n",
       "      <td>0</td>\n",
       "    </tr>\n",
       "    <tr>\n",
       "      <th>12</th>\n",
       "      <td>09/10/97</td>\n",
       "      <td>08:43</td>\n",
       "      <td>1088.75</td>\n",
       "      <td>1089.25</td>\n",
       "      <td>1088.50</td>\n",
       "      <td>1089.00</td>\n",
       "      <td>0</td>\n",
       "    </tr>\n",
       "    <tr>\n",
       "      <th>13</th>\n",
       "      <td>09/10/97</td>\n",
       "      <td>08:44</td>\n",
       "      <td>1089.00</td>\n",
       "      <td>1089.75</td>\n",
       "      <td>1089.00</td>\n",
       "      <td>1089.75</td>\n",
       "      <td>0</td>\n",
       "    </tr>\n",
       "    <tr>\n",
       "      <th>14</th>\n",
       "      <td>09/10/97</td>\n",
       "      <td>08:45</td>\n",
       "      <td>1089.75</td>\n",
       "      <td>1090.00</td>\n",
       "      <td>1089.50</td>\n",
       "      <td>1089.75</td>\n",
       "      <td>0</td>\n",
       "    </tr>\n",
       "    <tr>\n",
       "      <th>15</th>\n",
       "      <td>09/10/97</td>\n",
       "      <td>08:46</td>\n",
       "      <td>1089.75</td>\n",
       "      <td>1090.00</td>\n",
       "      <td>1089.75</td>\n",
       "      <td>1090.00</td>\n",
       "      <td>0</td>\n",
       "    </tr>\n",
       "    <tr>\n",
       "      <th>16</th>\n",
       "      <td>09/10/97</td>\n",
       "      <td>08:47</td>\n",
       "      <td>1090.25</td>\n",
       "      <td>1090.75</td>\n",
       "      <td>1090.00</td>\n",
       "      <td>1090.75</td>\n",
       "      <td>0</td>\n",
       "    </tr>\n",
       "    <tr>\n",
       "      <th>17</th>\n",
       "      <td>09/10/97</td>\n",
       "      <td>08:48</td>\n",
       "      <td>1091.25</td>\n",
       "      <td>1091.50</td>\n",
       "      <td>1090.50</td>\n",
       "      <td>1090.50</td>\n",
       "      <td>0</td>\n",
       "    </tr>\n",
       "    <tr>\n",
       "      <th>18</th>\n",
       "      <td>09/10/97</td>\n",
       "      <td>08:49</td>\n",
       "      <td>1090.25</td>\n",
       "      <td>1090.75</td>\n",
       "      <td>1090.00</td>\n",
       "      <td>1090.25</td>\n",
       "      <td>0</td>\n",
       "    </tr>\n",
       "    <tr>\n",
       "      <th>19</th>\n",
       "      <td>09/10/97</td>\n",
       "      <td>08:50</td>\n",
       "      <td>1090.25</td>\n",
       "      <td>1090.25</td>\n",
       "      <td>1090.00</td>\n",
       "      <td>1090.00</td>\n",
       "      <td>0</td>\n",
       "    </tr>\n",
       "    <tr>\n",
       "      <th>20</th>\n",
       "      <td>09/10/97</td>\n",
       "      <td>08:51</td>\n",
       "      <td>1090.00</td>\n",
       "      <td>1090.50</td>\n",
       "      <td>1090.00</td>\n",
       "      <td>1090.50</td>\n",
       "      <td>0</td>\n",
       "    </tr>\n",
       "    <tr>\n",
       "      <th>21</th>\n",
       "      <td>09/10/97</td>\n",
       "      <td>08:52</td>\n",
       "      <td>1090.75</td>\n",
       "      <td>1091.50</td>\n",
       "      <td>1090.75</td>\n",
       "      <td>1091.50</td>\n",
       "      <td>0</td>\n",
       "    </tr>\n",
       "    <tr>\n",
       "      <th>22</th>\n",
       "      <td>09/10/97</td>\n",
       "      <td>08:53</td>\n",
       "      <td>1091.25</td>\n",
       "      <td>1091.50</td>\n",
       "      <td>1090.75</td>\n",
       "      <td>1090.75</td>\n",
       "      <td>0</td>\n",
       "    </tr>\n",
       "    <tr>\n",
       "      <th>23</th>\n",
       "      <td>09/10/97</td>\n",
       "      <td>08:54</td>\n",
       "      <td>1091.00</td>\n",
       "      <td>1091.00</td>\n",
       "      <td>1090.50</td>\n",
       "      <td>1090.75</td>\n",
       "      <td>0</td>\n",
       "    </tr>\n",
       "    <tr>\n",
       "      <th>24</th>\n",
       "      <td>09/10/97</td>\n",
       "      <td>08:55</td>\n",
       "      <td>1091.00</td>\n",
       "      <td>1091.25</td>\n",
       "      <td>1090.50</td>\n",
       "      <td>1090.75</td>\n",
       "      <td>0</td>\n",
       "    </tr>\n",
       "    <tr>\n",
       "      <th>25</th>\n",
       "      <td>09/10/97</td>\n",
       "      <td>08:56</td>\n",
       "      <td>1090.75</td>\n",
       "      <td>1091.00</td>\n",
       "      <td>1090.00</td>\n",
       "      <td>1090.25</td>\n",
       "      <td>0</td>\n",
       "    </tr>\n",
       "    <tr>\n",
       "      <th>26</th>\n",
       "      <td>09/10/97</td>\n",
       "      <td>08:57</td>\n",
       "      <td>1090.25</td>\n",
       "      <td>1090.50</td>\n",
       "      <td>1090.25</td>\n",
       "      <td>1090.50</td>\n",
       "      <td>0</td>\n",
       "    </tr>\n",
       "    <tr>\n",
       "      <th>27</th>\n",
       "      <td>09/10/97</td>\n",
       "      <td>08:58</td>\n",
       "      <td>1090.50</td>\n",
       "      <td>1090.50</td>\n",
       "      <td>1090.50</td>\n",
       "      <td>1090.50</td>\n",
       "      <td>0</td>\n",
       "    </tr>\n",
       "    <tr>\n",
       "      <th>28</th>\n",
       "      <td>09/10/97</td>\n",
       "      <td>08:59</td>\n",
       "      <td>1090.75</td>\n",
       "      <td>1090.75</td>\n",
       "      <td>1090.50</td>\n",
       "      <td>1090.75</td>\n",
       "      <td>0</td>\n",
       "    </tr>\n",
       "    <tr>\n",
       "      <th>29</th>\n",
       "      <td>09/10/97</td>\n",
       "      <td>09:00</td>\n",
       "      <td>1090.75</td>\n",
       "      <td>1090.75</td>\n",
       "      <td>1090.25</td>\n",
       "      <td>1090.50</td>\n",
       "      <td>0</td>\n",
       "    </tr>\n",
       "    <tr>\n",
       "      <th>...</th>\n",
       "      <td>...</td>\n",
       "      <td>...</td>\n",
       "      <td>...</td>\n",
       "      <td>...</td>\n",
       "      <td>...</td>\n",
       "      <td>...</td>\n",
       "      <td>...</td>\n",
       "    </tr>\n",
       "    <tr>\n",
       "      <th>9970</th>\n",
       "      <td>10/14/97</td>\n",
       "      <td>12:41</td>\n",
       "      <td>1118.75</td>\n",
       "      <td>1119.25</td>\n",
       "      <td>1118.75</td>\n",
       "      <td>1119.25</td>\n",
       "      <td>0</td>\n",
       "    </tr>\n",
       "    <tr>\n",
       "      <th>9971</th>\n",
       "      <td>10/14/97</td>\n",
       "      <td>12:42</td>\n",
       "      <td>1119.50</td>\n",
       "      <td>1119.50</td>\n",
       "      <td>1119.25</td>\n",
       "      <td>1119.25</td>\n",
       "      <td>0</td>\n",
       "    </tr>\n",
       "    <tr>\n",
       "      <th>9972</th>\n",
       "      <td>10/14/97</td>\n",
       "      <td>12:43</td>\n",
       "      <td>1119.50</td>\n",
       "      <td>1119.50</td>\n",
       "      <td>1119.25</td>\n",
       "      <td>1119.50</td>\n",
       "      <td>0</td>\n",
       "    </tr>\n",
       "    <tr>\n",
       "      <th>9973</th>\n",
       "      <td>10/14/97</td>\n",
       "      <td>12:44</td>\n",
       "      <td>1119.50</td>\n",
       "      <td>1119.75</td>\n",
       "      <td>1119.25</td>\n",
       "      <td>1119.50</td>\n",
       "      <td>0</td>\n",
       "    </tr>\n",
       "    <tr>\n",
       "      <th>9974</th>\n",
       "      <td>10/14/97</td>\n",
       "      <td>12:45</td>\n",
       "      <td>1119.50</td>\n",
       "      <td>1119.50</td>\n",
       "      <td>1119.00</td>\n",
       "      <td>1119.25</td>\n",
       "      <td>0</td>\n",
       "    </tr>\n",
       "    <tr>\n",
       "      <th>9975</th>\n",
       "      <td>10/14/97</td>\n",
       "      <td>12:46</td>\n",
       "      <td>1119.50</td>\n",
       "      <td>1119.50</td>\n",
       "      <td>1119.25</td>\n",
       "      <td>1119.25</td>\n",
       "      <td>0</td>\n",
       "    </tr>\n",
       "    <tr>\n",
       "      <th>9976</th>\n",
       "      <td>10/14/97</td>\n",
       "      <td>12:47</td>\n",
       "      <td>1119.25</td>\n",
       "      <td>1119.25</td>\n",
       "      <td>1119.00</td>\n",
       "      <td>1119.00</td>\n",
       "      <td>0</td>\n",
       "    </tr>\n",
       "    <tr>\n",
       "      <th>9977</th>\n",
       "      <td>10/14/97</td>\n",
       "      <td>12:48</td>\n",
       "      <td>1119.00</td>\n",
       "      <td>1119.25</td>\n",
       "      <td>1118.75</td>\n",
       "      <td>1118.75</td>\n",
       "      <td>0</td>\n",
       "    </tr>\n",
       "    <tr>\n",
       "      <th>9978</th>\n",
       "      <td>10/14/97</td>\n",
       "      <td>12:49</td>\n",
       "      <td>1118.75</td>\n",
       "      <td>1119.00</td>\n",
       "      <td>1118.50</td>\n",
       "      <td>1118.50</td>\n",
       "      <td>0</td>\n",
       "    </tr>\n",
       "    <tr>\n",
       "      <th>9979</th>\n",
       "      <td>10/14/97</td>\n",
       "      <td>12:50</td>\n",
       "      <td>1118.50</td>\n",
       "      <td>1118.75</td>\n",
       "      <td>1118.25</td>\n",
       "      <td>1118.50</td>\n",
       "      <td>0</td>\n",
       "    </tr>\n",
       "    <tr>\n",
       "      <th>9980</th>\n",
       "      <td>10/14/97</td>\n",
       "      <td>12:51</td>\n",
       "      <td>1118.50</td>\n",
       "      <td>1118.75</td>\n",
       "      <td>1118.50</td>\n",
       "      <td>1118.75</td>\n",
       "      <td>0</td>\n",
       "    </tr>\n",
       "    <tr>\n",
       "      <th>9981</th>\n",
       "      <td>10/14/97</td>\n",
       "      <td>12:52</td>\n",
       "      <td>1119.00</td>\n",
       "      <td>1119.00</td>\n",
       "      <td>1119.00</td>\n",
       "      <td>1119.00</td>\n",
       "      <td>0</td>\n",
       "    </tr>\n",
       "    <tr>\n",
       "      <th>9982</th>\n",
       "      <td>10/14/97</td>\n",
       "      <td>12:53</td>\n",
       "      <td>1119.25</td>\n",
       "      <td>1119.50</td>\n",
       "      <td>1119.25</td>\n",
       "      <td>1119.25</td>\n",
       "      <td>0</td>\n",
       "    </tr>\n",
       "    <tr>\n",
       "      <th>9983</th>\n",
       "      <td>10/14/97</td>\n",
       "      <td>12:54</td>\n",
       "      <td>1119.50</td>\n",
       "      <td>1119.75</td>\n",
       "      <td>1119.50</td>\n",
       "      <td>1119.75</td>\n",
       "      <td>0</td>\n",
       "    </tr>\n",
       "    <tr>\n",
       "      <th>9984</th>\n",
       "      <td>10/14/97</td>\n",
       "      <td>12:55</td>\n",
       "      <td>1120.00</td>\n",
       "      <td>1120.00</td>\n",
       "      <td>1120.00</td>\n",
       "      <td>1120.00</td>\n",
       "      <td>0</td>\n",
       "    </tr>\n",
       "    <tr>\n",
       "      <th>9985</th>\n",
       "      <td>10/14/97</td>\n",
       "      <td>12:56</td>\n",
       "      <td>1120.00</td>\n",
       "      <td>1120.00</td>\n",
       "      <td>1119.75</td>\n",
       "      <td>1119.75</td>\n",
       "      <td>0</td>\n",
       "    </tr>\n",
       "    <tr>\n",
       "      <th>9986</th>\n",
       "      <td>10/14/97</td>\n",
       "      <td>12:57</td>\n",
       "      <td>1119.75</td>\n",
       "      <td>1119.75</td>\n",
       "      <td>1119.25</td>\n",
       "      <td>1119.25</td>\n",
       "      <td>0</td>\n",
       "    </tr>\n",
       "    <tr>\n",
       "      <th>9987</th>\n",
       "      <td>10/14/97</td>\n",
       "      <td>12:58</td>\n",
       "      <td>1119.25</td>\n",
       "      <td>1119.50</td>\n",
       "      <td>1119.25</td>\n",
       "      <td>1119.50</td>\n",
       "      <td>0</td>\n",
       "    </tr>\n",
       "    <tr>\n",
       "      <th>9988</th>\n",
       "      <td>10/14/97</td>\n",
       "      <td>12:59</td>\n",
       "      <td>1119.50</td>\n",
       "      <td>1119.75</td>\n",
       "      <td>1119.00</td>\n",
       "      <td>1119.50</td>\n",
       "      <td>0</td>\n",
       "    </tr>\n",
       "    <tr>\n",
       "      <th>9989</th>\n",
       "      <td>10/14/97</td>\n",
       "      <td>13:00</td>\n",
       "      <td>1119.50</td>\n",
       "      <td>1119.75</td>\n",
       "      <td>1119.50</td>\n",
       "      <td>1119.50</td>\n",
       "      <td>0</td>\n",
       "    </tr>\n",
       "    <tr>\n",
       "      <th>9990</th>\n",
       "      <td>10/14/97</td>\n",
       "      <td>13:01</td>\n",
       "      <td>1119.50</td>\n",
       "      <td>1119.50</td>\n",
       "      <td>1119.25</td>\n",
       "      <td>1119.25</td>\n",
       "      <td>0</td>\n",
       "    </tr>\n",
       "    <tr>\n",
       "      <th>9991</th>\n",
       "      <td>10/14/97</td>\n",
       "      <td>13:02</td>\n",
       "      <td>1119.25</td>\n",
       "      <td>1119.25</td>\n",
       "      <td>1119.00</td>\n",
       "      <td>1119.25</td>\n",
       "      <td>0</td>\n",
       "    </tr>\n",
       "    <tr>\n",
       "      <th>9992</th>\n",
       "      <td>10/14/97</td>\n",
       "      <td>13:03</td>\n",
       "      <td>1119.00</td>\n",
       "      <td>1119.25</td>\n",
       "      <td>1119.00</td>\n",
       "      <td>1119.00</td>\n",
       "      <td>0</td>\n",
       "    </tr>\n",
       "    <tr>\n",
       "      <th>9993</th>\n",
       "      <td>10/14/97</td>\n",
       "      <td>13:04</td>\n",
       "      <td>1119.00</td>\n",
       "      <td>1119.00</td>\n",
       "      <td>1118.75</td>\n",
       "      <td>1119.00</td>\n",
       "      <td>0</td>\n",
       "    </tr>\n",
       "    <tr>\n",
       "      <th>9994</th>\n",
       "      <td>10/14/97</td>\n",
       "      <td>13:05</td>\n",
       "      <td>1119.00</td>\n",
       "      <td>1119.50</td>\n",
       "      <td>1118.75</td>\n",
       "      <td>1119.50</td>\n",
       "      <td>0</td>\n",
       "    </tr>\n",
       "    <tr>\n",
       "      <th>9995</th>\n",
       "      <td>10/14/97</td>\n",
       "      <td>13:06</td>\n",
       "      <td>1119.25</td>\n",
       "      <td>1119.50</td>\n",
       "      <td>1119.00</td>\n",
       "      <td>1119.25</td>\n",
       "      <td>0</td>\n",
       "    </tr>\n",
       "    <tr>\n",
       "      <th>9996</th>\n",
       "      <td>10/14/97</td>\n",
       "      <td>13:07</td>\n",
       "      <td>1119.00</td>\n",
       "      <td>1119.25</td>\n",
       "      <td>1118.75</td>\n",
       "      <td>1119.25</td>\n",
       "      <td>0</td>\n",
       "    </tr>\n",
       "    <tr>\n",
       "      <th>9997</th>\n",
       "      <td>10/14/97</td>\n",
       "      <td>13:08</td>\n",
       "      <td>1119.25</td>\n",
       "      <td>1120.25</td>\n",
       "      <td>1119.25</td>\n",
       "      <td>1120.25</td>\n",
       "      <td>0</td>\n",
       "    </tr>\n",
       "    <tr>\n",
       "      <th>9998</th>\n",
       "      <td>10/14/97</td>\n",
       "      <td>13:09</td>\n",
       "      <td>1120.25</td>\n",
       "      <td>1120.25</td>\n",
       "      <td>1119.50</td>\n",
       "      <td>1119.50</td>\n",
       "      <td>0</td>\n",
       "    </tr>\n",
       "    <tr>\n",
       "      <th>9999</th>\n",
       "      <td>10/14/97</td>\n",
       "      <td>13:10</td>\n",
       "      <td>1119.50</td>\n",
       "      <td>1120.00</td>\n",
       "      <td>1119.25</td>\n",
       "      <td>1120.00</td>\n",
       "      <td>0</td>\n",
       "    </tr>\n",
       "  </tbody>\n",
       "</table>\n",
       "<p>10000 rows × 7 columns</p>\n",
       "</div>"
      ],
      "text/plain": [
       "          Date   Time     Open     High      Low    Close  Volume\n",
       "0     09/10/97  08:31  1089.00  1089.25  1089.00  1089.25       0\n",
       "1     09/10/97  08:32  1089.00  1089.00  1088.75  1089.00       0\n",
       "2     09/10/97  08:33  1088.75  1089.00  1088.50  1088.75       0\n",
       "3     09/10/97  08:34  1089.00  1089.50  1089.00  1089.25       0\n",
       "4     09/10/97  08:35  1089.25  1089.25  1088.50  1088.50       0\n",
       "5     09/10/97  08:36  1088.25  1088.50  1087.75  1087.75       0\n",
       "6     09/10/97  08:37  1088.00  1088.25  1088.00  1088.25       0\n",
       "7     09/10/97  08:38  1088.25  1088.25  1087.50  1087.75       0\n",
       "8     09/10/97  08:39  1087.50  1088.75  1087.50  1088.75       0\n",
       "9     09/10/97  08:40  1088.50  1088.50  1087.50  1087.50       0\n",
       "10    09/10/97  08:41  1087.50  1088.50  1087.50  1088.50       0\n",
       "11    09/10/97  08:42  1088.75  1089.00  1088.25  1089.00       0\n",
       "12    09/10/97  08:43  1088.75  1089.25  1088.50  1089.00       0\n",
       "13    09/10/97  08:44  1089.00  1089.75  1089.00  1089.75       0\n",
       "14    09/10/97  08:45  1089.75  1090.00  1089.50  1089.75       0\n",
       "15    09/10/97  08:46  1089.75  1090.00  1089.75  1090.00       0\n",
       "16    09/10/97  08:47  1090.25  1090.75  1090.00  1090.75       0\n",
       "17    09/10/97  08:48  1091.25  1091.50  1090.50  1090.50       0\n",
       "18    09/10/97  08:49  1090.25  1090.75  1090.00  1090.25       0\n",
       "19    09/10/97  08:50  1090.25  1090.25  1090.00  1090.00       0\n",
       "20    09/10/97  08:51  1090.00  1090.50  1090.00  1090.50       0\n",
       "21    09/10/97  08:52  1090.75  1091.50  1090.75  1091.50       0\n",
       "22    09/10/97  08:53  1091.25  1091.50  1090.75  1090.75       0\n",
       "23    09/10/97  08:54  1091.00  1091.00  1090.50  1090.75       0\n",
       "24    09/10/97  08:55  1091.00  1091.25  1090.50  1090.75       0\n",
       "25    09/10/97  08:56  1090.75  1091.00  1090.00  1090.25       0\n",
       "26    09/10/97  08:57  1090.25  1090.50  1090.25  1090.50       0\n",
       "27    09/10/97  08:58  1090.50  1090.50  1090.50  1090.50       0\n",
       "28    09/10/97  08:59  1090.75  1090.75  1090.50  1090.75       0\n",
       "29    09/10/97  09:00  1090.75  1090.75  1090.25  1090.50       0\n",
       "...        ...    ...      ...      ...      ...      ...     ...\n",
       "9970  10/14/97  12:41  1118.75  1119.25  1118.75  1119.25       0\n",
       "9971  10/14/97  12:42  1119.50  1119.50  1119.25  1119.25       0\n",
       "9972  10/14/97  12:43  1119.50  1119.50  1119.25  1119.50       0\n",
       "9973  10/14/97  12:44  1119.50  1119.75  1119.25  1119.50       0\n",
       "9974  10/14/97  12:45  1119.50  1119.50  1119.00  1119.25       0\n",
       "9975  10/14/97  12:46  1119.50  1119.50  1119.25  1119.25       0\n",
       "9976  10/14/97  12:47  1119.25  1119.25  1119.00  1119.00       0\n",
       "9977  10/14/97  12:48  1119.00  1119.25  1118.75  1118.75       0\n",
       "9978  10/14/97  12:49  1118.75  1119.00  1118.50  1118.50       0\n",
       "9979  10/14/97  12:50  1118.50  1118.75  1118.25  1118.50       0\n",
       "9980  10/14/97  12:51  1118.50  1118.75  1118.50  1118.75       0\n",
       "9981  10/14/97  12:52  1119.00  1119.00  1119.00  1119.00       0\n",
       "9982  10/14/97  12:53  1119.25  1119.50  1119.25  1119.25       0\n",
       "9983  10/14/97  12:54  1119.50  1119.75  1119.50  1119.75       0\n",
       "9984  10/14/97  12:55  1120.00  1120.00  1120.00  1120.00       0\n",
       "9985  10/14/97  12:56  1120.00  1120.00  1119.75  1119.75       0\n",
       "9986  10/14/97  12:57  1119.75  1119.75  1119.25  1119.25       0\n",
       "9987  10/14/97  12:58  1119.25  1119.50  1119.25  1119.50       0\n",
       "9988  10/14/97  12:59  1119.50  1119.75  1119.00  1119.50       0\n",
       "9989  10/14/97  13:00  1119.50  1119.75  1119.50  1119.50       0\n",
       "9990  10/14/97  13:01  1119.50  1119.50  1119.25  1119.25       0\n",
       "9991  10/14/97  13:02  1119.25  1119.25  1119.00  1119.25       0\n",
       "9992  10/14/97  13:03  1119.00  1119.25  1119.00  1119.00       0\n",
       "9993  10/14/97  13:04  1119.00  1119.00  1118.75  1119.00       0\n",
       "9994  10/14/97  13:05  1119.00  1119.50  1118.75  1119.50       0\n",
       "9995  10/14/97  13:06  1119.25  1119.50  1119.00  1119.25       0\n",
       "9996  10/14/97  13:07  1119.00  1119.25  1118.75  1119.25       0\n",
       "9997  10/14/97  13:08  1119.25  1120.25  1119.25  1120.25       0\n",
       "9998  10/14/97  13:09  1120.25  1120.25  1119.50  1119.50       0\n",
       "9999  10/14/97  13:10  1119.50  1120.00  1119.25  1120.00       0\n",
       "\n",
       "[10000 rows x 7 columns]"
      ]
     },
     "execution_count": 278,
     "metadata": {},
     "output_type": "execute_result"
    }
   ],
   "source": [
    "data1 = data.head(n=10000)\n",
    "data1"
   ]
  },
  {
   "cell_type": "code",
   "execution_count": 265,
   "metadata": {
    "collapsed": false
   },
   "outputs": [
    {
     "data": {
      "text/plain": [
       "-13.75"
      ]
     },
     "execution_count": 265,
     "metadata": {},
     "output_type": "execute_result"
    }
   ],
   "source": [
    "data1.iloc[405]['Close'] - data1.iloc[105]['Close']"
   ]
  },
  {
   "cell_type": "code",
   "execution_count": 267,
   "metadata": {
    "collapsed": false
   },
   "outputs": [
    {
     "data": {
      "text/plain": [
       "nan"
      ]
     },
     "execution_count": 267,
     "metadata": {},
     "output_type": "execute_result"
    }
   ],
   "source": [
    "diff_temp1[405]"
   ]
  },
  {
   "cell_type": "code",
   "execution_count": 285,
   "metadata": {
    "collapsed": false
   },
   "outputs": [
    {
     "data": {
      "text/plain": [
       "1070.0"
      ]
     },
     "execution_count": 285,
     "metadata": {},
     "output_type": "execute_result"
    }
   ],
   "source": [
    "data1.iloc[1000]['Close']"
   ]
  },
  {
   "cell_type": "markdown",
   "metadata": {},
   "source": [
    "diff_temp1 = data1.groupby(['Date'])['Close'].diff(300)\n",
    "diff_ratio1 = pd.DataFrame(np.nan, index=np.arange(10000), columns=np.arange(1000))\n",
    "#diff_ratio1[9999][998] = diff_temp1[9998]/data1.iloc[999]['Close']\n"
   ]
  },
  {
   "cell_type": "markdown",
   "metadata": {},
   "source": [
    "diff_ratio = pd.DataFrame(np.nan, index=np.arange(10000), columns=np.arange(1000))\n",
    "for i in range(1, 1000):\n",
    "    diff_temp = data1.groupby(['Date'])['Close'].diff(i)\n",
    "    for j in range(0,10000-i):\n",
    "        diff_ratio[j+i][i] = diff_temp[j+i]/data1.iloc[j]['Close']"
   ]
  },
  {
   "cell_type": "code",
   "execution_count": null,
   "metadata": {
    "collapsed": false,
    "scrolled": false
   },
   "outputs": [],
   "source": [
    "diff_ratio = pd.DataFrame(np.nan, index=np.arange(10000), columns=np.arange(1000))\n",
    "for i in range(0,999):\n",
    "    for j in range(0,9999):\n",
    "        if j > i:\n",
    "           diff_ratio.loc[j][i] = (data1.iloc[j]['Close'] - data1.iloc[j-i-1]['Close'])/data.iloc[j-i-1]['Close']\n",
    "#print diff_ratio        "
   ]
  },
  {
   "cell_type": "code",
   "execution_count": 181,
   "metadata": {
    "collapsed": false
   },
   "outputs": [
    {
     "data": {
      "text/html": [
       "<div>\n",
       "<table border=\"1\" class=\"dataframe\">\n",
       "  <thead>\n",
       "    <tr style=\"text-align: right;\">\n",
       "      <th></th>\n",
       "      <th>0</th>\n",
       "      <th>1</th>\n",
       "      <th>2</th>\n",
       "      <th>3</th>\n",
       "      <th>4</th>\n",
       "      <th>5</th>\n",
       "      <th>6</th>\n",
       "      <th>7</th>\n",
       "      <th>8</th>\n",
       "      <th>9</th>\n",
       "    </tr>\n",
       "  </thead>\n",
       "  <tbody>\n",
       "    <tr>\n",
       "      <th>0</th>\n",
       "      <td>NaN</td>\n",
       "      <td>NaN</td>\n",
       "      <td>NaN</td>\n",
       "      <td>NaN</td>\n",
       "      <td>NaN</td>\n",
       "      <td>NaN</td>\n",
       "      <td>NaN</td>\n",
       "      <td>NaN</td>\n",
       "      <td>NaN</td>\n",
       "      <td>NaN</td>\n",
       "    </tr>\n",
       "    <tr>\n",
       "      <th>1</th>\n",
       "      <td>NaN</td>\n",
       "      <td>NaN</td>\n",
       "      <td>NaN</td>\n",
       "      <td>NaN</td>\n",
       "      <td>NaN</td>\n",
       "      <td>NaN</td>\n",
       "      <td>NaN</td>\n",
       "      <td>NaN</td>\n",
       "      <td>NaN</td>\n",
       "      <td>NaN</td>\n",
       "    </tr>\n",
       "    <tr>\n",
       "      <th>2</th>\n",
       "      <td>NaN</td>\n",
       "      <td>NaN</td>\n",
       "      <td>NaN</td>\n",
       "      <td>NaN</td>\n",
       "      <td>NaN</td>\n",
       "      <td>NaN</td>\n",
       "      <td>NaN</td>\n",
       "      <td>NaN</td>\n",
       "      <td>NaN</td>\n",
       "      <td>NaN</td>\n",
       "    </tr>\n",
       "    <tr>\n",
       "      <th>3</th>\n",
       "      <td>NaN</td>\n",
       "      <td>NaN</td>\n",
       "      <td>NaN</td>\n",
       "      <td>NaN</td>\n",
       "      <td>NaN</td>\n",
       "      <td>NaN</td>\n",
       "      <td>NaN</td>\n",
       "      <td>NaN</td>\n",
       "      <td>NaN</td>\n",
       "      <td>NaN</td>\n",
       "    </tr>\n",
       "    <tr>\n",
       "      <th>4</th>\n",
       "      <td>NaN</td>\n",
       "      <td>NaN</td>\n",
       "      <td>NaN</td>\n",
       "      <td>NaN</td>\n",
       "      <td>NaN</td>\n",
       "      <td>NaN</td>\n",
       "      <td>NaN</td>\n",
       "      <td>NaN</td>\n",
       "      <td>NaN</td>\n",
       "      <td>NaN</td>\n",
       "    </tr>\n",
       "    <tr>\n",
       "      <th>5</th>\n",
       "      <td>NaN</td>\n",
       "      <td>NaN</td>\n",
       "      <td>NaN</td>\n",
       "      <td>NaN</td>\n",
       "      <td>NaN</td>\n",
       "      <td>NaN</td>\n",
       "      <td>NaN</td>\n",
       "      <td>NaN</td>\n",
       "      <td>NaN</td>\n",
       "      <td>NaN</td>\n",
       "    </tr>\n",
       "    <tr>\n",
       "      <th>6</th>\n",
       "      <td>NaN</td>\n",
       "      <td>NaN</td>\n",
       "      <td>NaN</td>\n",
       "      <td>NaN</td>\n",
       "      <td>NaN</td>\n",
       "      <td>NaN</td>\n",
       "      <td>NaN</td>\n",
       "      <td>NaN</td>\n",
       "      <td>NaN</td>\n",
       "      <td>NaN</td>\n",
       "    </tr>\n",
       "    <tr>\n",
       "      <th>7</th>\n",
       "      <td>NaN</td>\n",
       "      <td>NaN</td>\n",
       "      <td>NaN</td>\n",
       "      <td>NaN</td>\n",
       "      <td>NaN</td>\n",
       "      <td>NaN</td>\n",
       "      <td>NaN</td>\n",
       "      <td>NaN</td>\n",
       "      <td>NaN</td>\n",
       "      <td>NaN</td>\n",
       "    </tr>\n",
       "    <tr>\n",
       "      <th>8</th>\n",
       "      <td>NaN</td>\n",
       "      <td>NaN</td>\n",
       "      <td>NaN</td>\n",
       "      <td>NaN</td>\n",
       "      <td>NaN</td>\n",
       "      <td>NaN</td>\n",
       "      <td>NaN</td>\n",
       "      <td>NaN</td>\n",
       "      <td>NaN</td>\n",
       "      <td>NaN</td>\n",
       "    </tr>\n",
       "    <tr>\n",
       "      <th>9</th>\n",
       "      <td>NaN</td>\n",
       "      <td>NaN</td>\n",
       "      <td>NaN</td>\n",
       "      <td>NaN</td>\n",
       "      <td>NaN</td>\n",
       "      <td>NaN</td>\n",
       "      <td>NaN</td>\n",
       "      <td>NaN</td>\n",
       "      <td>NaN</td>\n",
       "      <td>NaN</td>\n",
       "    </tr>\n",
       "  </tbody>\n",
       "</table>\n",
       "</div>"
      ],
      "text/plain": [
       "    0   1   2   3   4   5   6   7   8   9\n",
       "0 NaN NaN NaN NaN NaN NaN NaN NaN NaN NaN\n",
       "1 NaN NaN NaN NaN NaN NaN NaN NaN NaN NaN\n",
       "2 NaN NaN NaN NaN NaN NaN NaN NaN NaN NaN\n",
       "3 NaN NaN NaN NaN NaN NaN NaN NaN NaN NaN\n",
       "4 NaN NaN NaN NaN NaN NaN NaN NaN NaN NaN\n",
       "5 NaN NaN NaN NaN NaN NaN NaN NaN NaN NaN\n",
       "6 NaN NaN NaN NaN NaN NaN NaN NaN NaN NaN\n",
       "7 NaN NaN NaN NaN NaN NaN NaN NaN NaN NaN\n",
       "8 NaN NaN NaN NaN NaN NaN NaN NaN NaN NaN\n",
       "9 NaN NaN NaN NaN NaN NaN NaN NaN NaN NaN"
      ]
     },
     "execution_count": 181,
     "metadata": {},
     "output_type": "execute_result"
    }
   ],
   "source": [
    "t2 = pd.DataFrame(np.nan, index=np.arange(10), columns=np.arange(10))\n",
    "t2"
   ]
  },
  {
   "cell_type": "code",
   "execution_count": 161,
   "metadata": {
    "collapsed": false
   },
   "outputs": [
    {
     "data": {
      "text/plain": [
       "nan"
      ]
     },
     "execution_count": 161,
     "metadata": {},
     "output_type": "execute_result"
    }
   ],
   "source": [
    "t2[1][1]"
   ]
  },
  {
   "cell_type": "code",
   "execution_count": 3,
   "metadata": {
    "collapsed": false
   },
   "outputs": [
    {
     "name": "stdout",
     "output_type": "stream",
     "text": [
      " Close \n",
      "-------\n",
      "1089.25\n",
      " 1089.0\n",
      "1088.75\n",
      "1089.25\n",
      " 1088.5\n",
      "1087.75\n",
      "1088.25\n",
      "1087.75\n",
      "1088.75\n",
      " 1087.5\n",
      "    ...\n",
      "2289.75\n",
      " 2289.5\n",
      " 2289.5\n",
      " 2289.5\n",
      "2289.75\n",
      " 2289.5\n",
      "2289.25\n",
      " 2289.5\n",
      "2289.25\n",
      " 2289.0\n",
      "2288.75\n",
      "Length = 1981244 rows\n"
     ]
    }
   ],
   "source": [
    "print(colval)"
   ]
  },
  {
   "cell_type": "code",
   "execution_count": 6,
   "metadata": {
    "collapsed": false
   },
   "outputs": [
    {
     "data": {
      "text/plain": [
       "1089.25"
      ]
     },
     "execution_count": 6,
     "metadata": {},
     "output_type": "execute_result"
    }
   ],
   "source": [
    "colval[0]"
   ]
  },
  {
   "cell_type": "code",
   "execution_count": 7,
   "metadata": {
    "collapsed": false
   },
   "outputs": [
    {
     "data": {
      "text/plain": [
       "astropy.table.column.Column"
      ]
     },
     "execution_count": 7,
     "metadata": {},
     "output_type": "execute_result"
    }
   ],
   "source": [
    "type(colval)"
   ]
  },
  {
   "cell_type": "code",
   "execution_count": 9,
   "metadata": {
    "collapsed": false
   },
   "outputs": [
    {
     "ename": "SyntaxError",
     "evalue": "invalid syntax (<ipython-input-9-893c1bb83669>, line 1)",
     "output_type": "error",
     "traceback": [
      "\u001b[0;36m  File \u001b[0;32m\"<ipython-input-9-893c1bb83669>\"\u001b[0;36m, line \u001b[0;32m1\u001b[0m\n\u001b[0;31m    colval[1 to 2]\u001b[0m\n\u001b[0m              ^\u001b[0m\n\u001b[0;31mSyntaxError\u001b[0m\u001b[0;31m:\u001b[0m invalid syntax\n"
     ]
    }
   ],
   "source": [
    "colval[1 to 2]"
   ]
  },
  {
   "cell_type": "code",
   "execution_count": 10,
   "metadata": {
    "collapsed": false
   },
   "outputs": [
    {
     "ename": "IndexError",
     "evalue": "too many indices for array",
     "output_type": "error",
     "traceback": [
      "\u001b[0;31m---------------------------------------------------------------------------\u001b[0m",
      "\u001b[0;31mIndexError\u001b[0m                                Traceback (most recent call last)",
      "\u001b[0;32m<ipython-input-10-1e3c2311650a>\u001b[0m in \u001b[0;36m<module>\u001b[0;34m()\u001b[0m\n\u001b[0;32m----> 1\u001b[0;31m \u001b[0mcolval\u001b[0m\u001b[0;34m[\u001b[0m\u001b[0;36m1\u001b[0m\u001b[0;34m,\u001b[0m\u001b[0;36m2\u001b[0m\u001b[0;34m]\u001b[0m\u001b[0;34m\u001b[0m\u001b[0m\n\u001b[0m",
      "\u001b[0;32mastropy/table/_column_mixins.pyx\u001b[0m in \u001b[0;36mastropy.table._column_mixins._ColumnGetitemShim.__getitem__ (astropy/table/_column_mixins.c:942)\u001b[0;34m()\u001b[0m\n",
      "\u001b[0;32mastropy/table/_column_mixins.pyx\u001b[0m in \u001b[0;36mastropy.table._column_mixins.base_getitem (astropy/table/_column_mixins.c:834)\u001b[0;34m()\u001b[0m\n",
      "\u001b[0;32mastropy/table/_column_mixins.pyx\u001b[0m in \u001b[0;36mastropy.table._column_mixins.column_getitem (astropy/table/_column_mixins.c:882)\u001b[0;34m()\u001b[0m\n",
      "\u001b[0;31mIndexError\u001b[0m: too many indices for array"
     ]
    }
   ],
   "source": [
    "colval[1,2]"
   ]
  },
  {
   "cell_type": "code",
   "execution_count": 18,
   "metadata": {
    "collapsed": false,
    "scrolled": true
   },
   "outputs": [],
   "source": [
    "import numpy as np\n",
    "i=np.arange(2,10,1)"
   ]
  },
  {
   "cell_type": "code",
   "execution_count": 19,
   "metadata": {
    "collapsed": false
   },
   "outputs": [
    {
     "data": {
      "text/html": [
       "&lt;Column name=&apos;Close&apos; dtype=&apos;float64&apos; length=8&gt;\n",
       "<table>\n",
       "<tr><td>1088.75</td></tr>\n",
       "<tr><td>1089.25</td></tr>\n",
       "<tr><td>1088.5</td></tr>\n",
       "<tr><td>1087.75</td></tr>\n",
       "<tr><td>1088.25</td></tr>\n",
       "<tr><td>1087.75</td></tr>\n",
       "<tr><td>1088.75</td></tr>\n",
       "<tr><td>1087.5</td></tr>\n",
       "</table>"
      ],
      "text/plain": [
       "<Column name='Close' dtype='float64' length=8>\n",
       "1088.75\n",
       "1089.25\n",
       " 1088.5\n",
       "1087.75\n",
       "1088.25\n",
       "1087.75\n",
       "1088.75\n",
       " 1087.5"
      ]
     },
     "execution_count": 19,
     "metadata": {},
     "output_type": "execute_result"
    }
   ],
   "source": [
    "colval[i]"
   ]
  },
  {
   "cell_type": "code",
   "execution_count": 21,
   "metadata": {
    "collapsed": false
   },
   "outputs": [
    {
     "data": {
      "text/plain": [
       "1981244"
      ]
     },
     "execution_count": 21,
     "metadata": {},
     "output_type": "execute_result"
    }
   ],
   "source": [
    "len(data)"
   ]
  },
  {
   "cell_type": "code",
   "execution_count": 29,
   "metadata": {
    "collapsed": false
   },
   "outputs": [
    {
     "name": "stdout",
     "output_type": "stream",
     "text": [
      "  Date    Time  Open    High   Low    Close  Volume\n",
      "-------- ----- ------ ------- ------ ------- ------\n",
      "09/10/97 08:31 1089.0 1089.25 1089.0 1089.25      0\n"
     ]
    }
   ],
   "source": [
    "t2 = data['Date' is '09/11/97']\n",
    "print t2"
   ]
  },
  {
   "cell_type": "code",
   "execution_count": 25,
   "metadata": {
    "collapsed": false
   },
   "outputs": [
    {
     "name": "stdout",
     "output_type": "stream",
     "text": [
      "  Date    Time  Open    High   Low    Close  Volume\n",
      "-------- ----- ------ ------- ------ ------- ------\n",
      "09/10/97 08:31 1089.0 1089.25 1089.0 1089.25      0\n"
     ]
    }
   ],
   "source": []
  },
  {
   "cell_type": "code",
   "execution_count": 66,
   "metadata": {
    "collapsed": true
   },
   "outputs": [],
   "source": [
    "t3 = t2.to_pandas()"
   ]
  },
  {
   "cell_type": "code",
   "execution_count": 87,
   "metadata": {
    "collapsed": false
   },
   "outputs": [
    {
     "data": {
      "text/plain": [
       "Date\n",
       "09/10/97    1085.632099\n",
       "09/11/97    1068.723457\n",
       "Name: Close, dtype: float64"
      ]
     },
     "execution_count": 87,
     "metadata": {},
     "output_type": "execute_result"
    }
   ],
   "source": [
    "t7.groupby(['Date'])['Close'].mean()"
   ]
  },
  {
   "cell_type": "code",
   "execution_count": 89,
   "metadata": {
    "collapsed": false
   },
   "outputs": [
    {
     "data": {
      "text/plain": [
       "Date\n",
       "09/10/97    10.16846\n",
       "09/11/97    11.04524\n",
       "Name: Close, dtype: float64"
      ]
     },
     "execution_count": 89,
     "metadata": {},
     "output_type": "execute_result"
    }
   ],
   "source": [
    "t7.groupby(['Date'])['Close'].var()"
   ]
  }
 ],
 "metadata": {
  "anaconda-cloud": {},
  "kernelspec": {
   "display_name": "Python [default]",
   "language": "python",
   "name": "python2"
  },
  "language_info": {
   "codemirror_mode": {
    "name": "ipython",
    "version": 2
   },
   "file_extension": ".py",
   "mimetype": "text/x-python",
   "name": "python",
   "nbconvert_exporter": "python",
   "pygments_lexer": "ipython2",
   "version": "2.7.12"
  }
 },
 "nbformat": 4,
 "nbformat_minor": 1
}
